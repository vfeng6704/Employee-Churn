{
 "cells": [
  {
   "cell_type": "code",
   "execution_count": 1,
   "id": "59efc3e3",
   "metadata": {},
   "outputs": [],
   "source": [
    "import pandas as pd\n",
    "import numpy as np\n",
    "\n",
    "# Visualization\n",
    "import matplotlib.pyplot as plt\n",
    "%matplotlib inline\n",
    "import seaborn as sns\n",
    "\n",
    "import warnings\n",
    "warnings.filterwarnings('ignore')"
   ]
  },
  {
   "cell_type": "code",
   "execution_count": 2,
   "id": "a91697f0",
   "metadata": {},
   "outputs": [
    {
     "data": {
      "text/html": [
       "        <script type=\"text/javascript\">\n",
       "        window.PlotlyConfig = {MathJaxConfig: 'local'};\n",
       "        if (window.MathJax && window.MathJax.Hub && window.MathJax.Hub.Config) {window.MathJax.Hub.Config({SVG: {font: \"STIX-Web\"}});}\n",
       "        if (typeof require !== 'undefined') {\n",
       "        require.undef(\"plotly\");\n",
       "        requirejs.config({\n",
       "            paths: {\n",
       "                'plotly': ['https://cdn.plot.ly/plotly-2.12.1.min']\n",
       "            }\n",
       "        });\n",
       "        require(['plotly'], function(Plotly) {\n",
       "            window._Plotly = Plotly;\n",
       "        });\n",
       "        }\n",
       "        </script>\n",
       "        "
      ]
     },
     "metadata": {},
     "output_type": "display_data"
    }
   ],
   "source": [
    "# Import statements required for Plotly \n",
    "import plotly.offline as py\n",
    "py.init_notebook_mode(connected=True)\n",
    "import plotly.graph_objs as go\n",
    "import plotly.tools as tls"
   ]
  },
  {
   "cell_type": "code",
   "execution_count": 3,
   "id": "e8ef2393",
   "metadata": {},
   "outputs": [],
   "source": [
    "# Import relevant classification model packages \n",
    "from sklearn.ensemble import RandomForestClassifier, GradientBoostingClassifier\n",
    "from sklearn.linear_model import LogisticRegression\n",
    "from sklearn.metrics import (accuracy_score, log_loss, classification_report)\n",
    "import xgboost"
   ]
  },
  {
   "cell_type": "markdown",
   "id": "1f1b2177",
   "metadata": {},
   "source": [
    "## Step 1: EDA"
   ]
  },
  {
   "cell_type": "code",
   "execution_count": 21,
   "id": "40257fbe",
   "metadata": {},
   "outputs": [
    {
     "data": {
      "text/html": [
       "<div>\n",
       "<style scoped>\n",
       "    .dataframe tbody tr th:only-of-type {\n",
       "        vertical-align: middle;\n",
       "    }\n",
       "\n",
       "    .dataframe tbody tr th {\n",
       "        vertical-align: top;\n",
       "    }\n",
       "\n",
       "    .dataframe thead th {\n",
       "        text-align: right;\n",
       "    }\n",
       "</style>\n",
       "<table border=\"1\" class=\"dataframe\">\n",
       "  <thead>\n",
       "    <tr style=\"text-align: right;\">\n",
       "      <th></th>\n",
       "      <th>Age</th>\n",
       "      <th>Attrition</th>\n",
       "      <th>BusinessTravel</th>\n",
       "      <th>DailyRate</th>\n",
       "      <th>Department</th>\n",
       "      <th>DistanceFromHome</th>\n",
       "      <th>Education</th>\n",
       "      <th>EducationField</th>\n",
       "      <th>EmployeeCount</th>\n",
       "      <th>EmployeeNumber</th>\n",
       "      <th>...</th>\n",
       "      <th>RelationshipSatisfaction</th>\n",
       "      <th>StandardHours</th>\n",
       "      <th>StockOptionLevel</th>\n",
       "      <th>TotalWorkingYears</th>\n",
       "      <th>TrainingTimesLastYear</th>\n",
       "      <th>WorkLifeBalance</th>\n",
       "      <th>YearsAtCompany</th>\n",
       "      <th>YearsInCurrentRole</th>\n",
       "      <th>YearsSinceLastPromotion</th>\n",
       "      <th>YearsWithCurrManager</th>\n",
       "    </tr>\n",
       "  </thead>\n",
       "  <tbody>\n",
       "    <tr>\n",
       "      <th>0</th>\n",
       "      <td>41</td>\n",
       "      <td>Yes</td>\n",
       "      <td>Travel_Rarely</td>\n",
       "      <td>1102</td>\n",
       "      <td>Sales</td>\n",
       "      <td>1</td>\n",
       "      <td>2</td>\n",
       "      <td>Life Sciences</td>\n",
       "      <td>1</td>\n",
       "      <td>1</td>\n",
       "      <td>...</td>\n",
       "      <td>1</td>\n",
       "      <td>80</td>\n",
       "      <td>0</td>\n",
       "      <td>8</td>\n",
       "      <td>0</td>\n",
       "      <td>1</td>\n",
       "      <td>6</td>\n",
       "      <td>4</td>\n",
       "      <td>0</td>\n",
       "      <td>5</td>\n",
       "    </tr>\n",
       "    <tr>\n",
       "      <th>1</th>\n",
       "      <td>49</td>\n",
       "      <td>No</td>\n",
       "      <td>Travel_Frequently</td>\n",
       "      <td>279</td>\n",
       "      <td>Research &amp; Development</td>\n",
       "      <td>8</td>\n",
       "      <td>1</td>\n",
       "      <td>Life Sciences</td>\n",
       "      <td>1</td>\n",
       "      <td>2</td>\n",
       "      <td>...</td>\n",
       "      <td>4</td>\n",
       "      <td>80</td>\n",
       "      <td>1</td>\n",
       "      <td>10</td>\n",
       "      <td>3</td>\n",
       "      <td>3</td>\n",
       "      <td>10</td>\n",
       "      <td>7</td>\n",
       "      <td>1</td>\n",
       "      <td>7</td>\n",
       "    </tr>\n",
       "    <tr>\n",
       "      <th>2</th>\n",
       "      <td>37</td>\n",
       "      <td>Yes</td>\n",
       "      <td>Travel_Rarely</td>\n",
       "      <td>1373</td>\n",
       "      <td>Research &amp; Development</td>\n",
       "      <td>2</td>\n",
       "      <td>2</td>\n",
       "      <td>Other</td>\n",
       "      <td>1</td>\n",
       "      <td>4</td>\n",
       "      <td>...</td>\n",
       "      <td>2</td>\n",
       "      <td>80</td>\n",
       "      <td>0</td>\n",
       "      <td>7</td>\n",
       "      <td>3</td>\n",
       "      <td>3</td>\n",
       "      <td>0</td>\n",
       "      <td>0</td>\n",
       "      <td>0</td>\n",
       "      <td>0</td>\n",
       "    </tr>\n",
       "    <tr>\n",
       "      <th>3</th>\n",
       "      <td>33</td>\n",
       "      <td>No</td>\n",
       "      <td>Travel_Frequently</td>\n",
       "      <td>1392</td>\n",
       "      <td>Research &amp; Development</td>\n",
       "      <td>3</td>\n",
       "      <td>4</td>\n",
       "      <td>Life Sciences</td>\n",
       "      <td>1</td>\n",
       "      <td>5</td>\n",
       "      <td>...</td>\n",
       "      <td>3</td>\n",
       "      <td>80</td>\n",
       "      <td>0</td>\n",
       "      <td>8</td>\n",
       "      <td>3</td>\n",
       "      <td>3</td>\n",
       "      <td>8</td>\n",
       "      <td>7</td>\n",
       "      <td>3</td>\n",
       "      <td>0</td>\n",
       "    </tr>\n",
       "    <tr>\n",
       "      <th>4</th>\n",
       "      <td>27</td>\n",
       "      <td>No</td>\n",
       "      <td>Travel_Rarely</td>\n",
       "      <td>591</td>\n",
       "      <td>Research &amp; Development</td>\n",
       "      <td>2</td>\n",
       "      <td>1</td>\n",
       "      <td>Medical</td>\n",
       "      <td>1</td>\n",
       "      <td>7</td>\n",
       "      <td>...</td>\n",
       "      <td>4</td>\n",
       "      <td>80</td>\n",
       "      <td>1</td>\n",
       "      <td>6</td>\n",
       "      <td>3</td>\n",
       "      <td>3</td>\n",
       "      <td>2</td>\n",
       "      <td>2</td>\n",
       "      <td>2</td>\n",
       "      <td>2</td>\n",
       "    </tr>\n",
       "  </tbody>\n",
       "</table>\n",
       "<p>5 rows × 35 columns</p>\n",
       "</div>"
      ],
      "text/plain": [
       "   Age Attrition     BusinessTravel  DailyRate              Department  \\\n",
       "0   41       Yes      Travel_Rarely       1102                   Sales   \n",
       "1   49        No  Travel_Frequently        279  Research & Development   \n",
       "2   37       Yes      Travel_Rarely       1373  Research & Development   \n",
       "3   33        No  Travel_Frequently       1392  Research & Development   \n",
       "4   27        No      Travel_Rarely        591  Research & Development   \n",
       "\n",
       "   DistanceFromHome  Education EducationField  EmployeeCount  EmployeeNumber  \\\n",
       "0                 1          2  Life Sciences              1               1   \n",
       "1                 8          1  Life Sciences              1               2   \n",
       "2                 2          2          Other              1               4   \n",
       "3                 3          4  Life Sciences              1               5   \n",
       "4                 2          1        Medical              1               7   \n",
       "\n",
       "   ...  RelationshipSatisfaction StandardHours  StockOptionLevel  \\\n",
       "0  ...                         1            80                 0   \n",
       "1  ...                         4            80                 1   \n",
       "2  ...                         2            80                 0   \n",
       "3  ...                         3            80                 0   \n",
       "4  ...                         4            80                 1   \n",
       "\n",
       "   TotalWorkingYears  TrainingTimesLastYear WorkLifeBalance  YearsAtCompany  \\\n",
       "0                  8                      0               1               6   \n",
       "1                 10                      3               3              10   \n",
       "2                  7                      3               3               0   \n",
       "3                  8                      3               3               8   \n",
       "4                  6                      3               3               2   \n",
       "\n",
       "  YearsInCurrentRole  YearsSinceLastPromotion  YearsWithCurrManager  \n",
       "0                  4                        0                     5  \n",
       "1                  7                        1                     7  \n",
       "2                  0                        0                     0  \n",
       "3                  7                        3                     0  \n",
       "4                  2                        2                     2  \n",
       "\n",
       "[5 rows x 35 columns]"
      ]
     },
     "execution_count": 21,
     "metadata": {},
     "output_type": "execute_result"
    }
   ],
   "source": [
    "df = pd.read_csv('IBM HR Employee Attrition.csv')\n",
    "df.head()"
   ]
  },
  {
   "cell_type": "code",
   "execution_count": 22,
   "id": "50450005",
   "metadata": {},
   "outputs": [
    {
     "data": {
      "text/html": [
       "<div>\n",
       "<style scoped>\n",
       "    .dataframe tbody tr th:only-of-type {\n",
       "        vertical-align: middle;\n",
       "    }\n",
       "\n",
       "    .dataframe tbody tr th {\n",
       "        vertical-align: top;\n",
       "    }\n",
       "\n",
       "    .dataframe thead th {\n",
       "        text-align: right;\n",
       "    }\n",
       "</style>\n",
       "<table border=\"1\" class=\"dataframe\">\n",
       "  <thead>\n",
       "    <tr style=\"text-align: right;\">\n",
       "      <th></th>\n",
       "      <th>Age</th>\n",
       "      <th>DailyRate</th>\n",
       "      <th>DistanceFromHome</th>\n",
       "      <th>Education</th>\n",
       "      <th>EmployeeCount</th>\n",
       "      <th>EmployeeNumber</th>\n",
       "      <th>EnvironmentSatisfaction</th>\n",
       "      <th>HourlyRate</th>\n",
       "      <th>JobInvolvement</th>\n",
       "      <th>JobLevel</th>\n",
       "      <th>...</th>\n",
       "      <th>RelationshipSatisfaction</th>\n",
       "      <th>StandardHours</th>\n",
       "      <th>StockOptionLevel</th>\n",
       "      <th>TotalWorkingYears</th>\n",
       "      <th>TrainingTimesLastYear</th>\n",
       "      <th>WorkLifeBalance</th>\n",
       "      <th>YearsAtCompany</th>\n",
       "      <th>YearsInCurrentRole</th>\n",
       "      <th>YearsSinceLastPromotion</th>\n",
       "      <th>YearsWithCurrManager</th>\n",
       "    </tr>\n",
       "  </thead>\n",
       "  <tbody>\n",
       "    <tr>\n",
       "      <th>count</th>\n",
       "      <td>1470.000000</td>\n",
       "      <td>1470.000000</td>\n",
       "      <td>1470.000000</td>\n",
       "      <td>1470.000000</td>\n",
       "      <td>1470.0</td>\n",
       "      <td>1470.000000</td>\n",
       "      <td>1470.000000</td>\n",
       "      <td>1470.000000</td>\n",
       "      <td>1470.000000</td>\n",
       "      <td>1470.000000</td>\n",
       "      <td>...</td>\n",
       "      <td>1470.000000</td>\n",
       "      <td>1470.0</td>\n",
       "      <td>1470.000000</td>\n",
       "      <td>1470.000000</td>\n",
       "      <td>1470.000000</td>\n",
       "      <td>1470.000000</td>\n",
       "      <td>1470.000000</td>\n",
       "      <td>1470.000000</td>\n",
       "      <td>1470.000000</td>\n",
       "      <td>1470.000000</td>\n",
       "    </tr>\n",
       "    <tr>\n",
       "      <th>mean</th>\n",
       "      <td>36.923810</td>\n",
       "      <td>802.485714</td>\n",
       "      <td>9.192517</td>\n",
       "      <td>2.912925</td>\n",
       "      <td>1.0</td>\n",
       "      <td>1024.865306</td>\n",
       "      <td>2.721769</td>\n",
       "      <td>65.891156</td>\n",
       "      <td>2.729932</td>\n",
       "      <td>2.063946</td>\n",
       "      <td>...</td>\n",
       "      <td>2.712245</td>\n",
       "      <td>80.0</td>\n",
       "      <td>0.793878</td>\n",
       "      <td>11.279592</td>\n",
       "      <td>2.799320</td>\n",
       "      <td>2.761224</td>\n",
       "      <td>7.008163</td>\n",
       "      <td>4.229252</td>\n",
       "      <td>2.187755</td>\n",
       "      <td>4.123129</td>\n",
       "    </tr>\n",
       "    <tr>\n",
       "      <th>std</th>\n",
       "      <td>9.135373</td>\n",
       "      <td>403.509100</td>\n",
       "      <td>8.106864</td>\n",
       "      <td>1.024165</td>\n",
       "      <td>0.0</td>\n",
       "      <td>602.024335</td>\n",
       "      <td>1.093082</td>\n",
       "      <td>20.329428</td>\n",
       "      <td>0.711561</td>\n",
       "      <td>1.106940</td>\n",
       "      <td>...</td>\n",
       "      <td>1.081209</td>\n",
       "      <td>0.0</td>\n",
       "      <td>0.852077</td>\n",
       "      <td>7.780782</td>\n",
       "      <td>1.289271</td>\n",
       "      <td>0.706476</td>\n",
       "      <td>6.126525</td>\n",
       "      <td>3.623137</td>\n",
       "      <td>3.222430</td>\n",
       "      <td>3.568136</td>\n",
       "    </tr>\n",
       "    <tr>\n",
       "      <th>min</th>\n",
       "      <td>18.000000</td>\n",
       "      <td>102.000000</td>\n",
       "      <td>1.000000</td>\n",
       "      <td>1.000000</td>\n",
       "      <td>1.0</td>\n",
       "      <td>1.000000</td>\n",
       "      <td>1.000000</td>\n",
       "      <td>30.000000</td>\n",
       "      <td>1.000000</td>\n",
       "      <td>1.000000</td>\n",
       "      <td>...</td>\n",
       "      <td>1.000000</td>\n",
       "      <td>80.0</td>\n",
       "      <td>0.000000</td>\n",
       "      <td>0.000000</td>\n",
       "      <td>0.000000</td>\n",
       "      <td>1.000000</td>\n",
       "      <td>0.000000</td>\n",
       "      <td>0.000000</td>\n",
       "      <td>0.000000</td>\n",
       "      <td>0.000000</td>\n",
       "    </tr>\n",
       "    <tr>\n",
       "      <th>25%</th>\n",
       "      <td>30.000000</td>\n",
       "      <td>465.000000</td>\n",
       "      <td>2.000000</td>\n",
       "      <td>2.000000</td>\n",
       "      <td>1.0</td>\n",
       "      <td>491.250000</td>\n",
       "      <td>2.000000</td>\n",
       "      <td>48.000000</td>\n",
       "      <td>2.000000</td>\n",
       "      <td>1.000000</td>\n",
       "      <td>...</td>\n",
       "      <td>2.000000</td>\n",
       "      <td>80.0</td>\n",
       "      <td>0.000000</td>\n",
       "      <td>6.000000</td>\n",
       "      <td>2.000000</td>\n",
       "      <td>2.000000</td>\n",
       "      <td>3.000000</td>\n",
       "      <td>2.000000</td>\n",
       "      <td>0.000000</td>\n",
       "      <td>2.000000</td>\n",
       "    </tr>\n",
       "    <tr>\n",
       "      <th>50%</th>\n",
       "      <td>36.000000</td>\n",
       "      <td>802.000000</td>\n",
       "      <td>7.000000</td>\n",
       "      <td>3.000000</td>\n",
       "      <td>1.0</td>\n",
       "      <td>1020.500000</td>\n",
       "      <td>3.000000</td>\n",
       "      <td>66.000000</td>\n",
       "      <td>3.000000</td>\n",
       "      <td>2.000000</td>\n",
       "      <td>...</td>\n",
       "      <td>3.000000</td>\n",
       "      <td>80.0</td>\n",
       "      <td>1.000000</td>\n",
       "      <td>10.000000</td>\n",
       "      <td>3.000000</td>\n",
       "      <td>3.000000</td>\n",
       "      <td>5.000000</td>\n",
       "      <td>3.000000</td>\n",
       "      <td>1.000000</td>\n",
       "      <td>3.000000</td>\n",
       "    </tr>\n",
       "    <tr>\n",
       "      <th>75%</th>\n",
       "      <td>43.000000</td>\n",
       "      <td>1157.000000</td>\n",
       "      <td>14.000000</td>\n",
       "      <td>4.000000</td>\n",
       "      <td>1.0</td>\n",
       "      <td>1555.750000</td>\n",
       "      <td>4.000000</td>\n",
       "      <td>83.750000</td>\n",
       "      <td>3.000000</td>\n",
       "      <td>3.000000</td>\n",
       "      <td>...</td>\n",
       "      <td>4.000000</td>\n",
       "      <td>80.0</td>\n",
       "      <td>1.000000</td>\n",
       "      <td>15.000000</td>\n",
       "      <td>3.000000</td>\n",
       "      <td>3.000000</td>\n",
       "      <td>9.000000</td>\n",
       "      <td>7.000000</td>\n",
       "      <td>3.000000</td>\n",
       "      <td>7.000000</td>\n",
       "    </tr>\n",
       "    <tr>\n",
       "      <th>max</th>\n",
       "      <td>60.000000</td>\n",
       "      <td>1499.000000</td>\n",
       "      <td>29.000000</td>\n",
       "      <td>5.000000</td>\n",
       "      <td>1.0</td>\n",
       "      <td>2068.000000</td>\n",
       "      <td>4.000000</td>\n",
       "      <td>100.000000</td>\n",
       "      <td>4.000000</td>\n",
       "      <td>5.000000</td>\n",
       "      <td>...</td>\n",
       "      <td>4.000000</td>\n",
       "      <td>80.0</td>\n",
       "      <td>3.000000</td>\n",
       "      <td>40.000000</td>\n",
       "      <td>6.000000</td>\n",
       "      <td>4.000000</td>\n",
       "      <td>40.000000</td>\n",
       "      <td>18.000000</td>\n",
       "      <td>15.000000</td>\n",
       "      <td>17.000000</td>\n",
       "    </tr>\n",
       "  </tbody>\n",
       "</table>\n",
       "<p>8 rows × 26 columns</p>\n",
       "</div>"
      ],
      "text/plain": [
       "               Age    DailyRate  DistanceFromHome    Education  EmployeeCount  \\\n",
       "count  1470.000000  1470.000000       1470.000000  1470.000000         1470.0   \n",
       "mean     36.923810   802.485714          9.192517     2.912925            1.0   \n",
       "std       9.135373   403.509100          8.106864     1.024165            0.0   \n",
       "min      18.000000   102.000000          1.000000     1.000000            1.0   \n",
       "25%      30.000000   465.000000          2.000000     2.000000            1.0   \n",
       "50%      36.000000   802.000000          7.000000     3.000000            1.0   \n",
       "75%      43.000000  1157.000000         14.000000     4.000000            1.0   \n",
       "max      60.000000  1499.000000         29.000000     5.000000            1.0   \n",
       "\n",
       "       EmployeeNumber  EnvironmentSatisfaction   HourlyRate  JobInvolvement  \\\n",
       "count     1470.000000              1470.000000  1470.000000     1470.000000   \n",
       "mean      1024.865306                 2.721769    65.891156        2.729932   \n",
       "std        602.024335                 1.093082    20.329428        0.711561   \n",
       "min          1.000000                 1.000000    30.000000        1.000000   \n",
       "25%        491.250000                 2.000000    48.000000        2.000000   \n",
       "50%       1020.500000                 3.000000    66.000000        3.000000   \n",
       "75%       1555.750000                 4.000000    83.750000        3.000000   \n",
       "max       2068.000000                 4.000000   100.000000        4.000000   \n",
       "\n",
       "          JobLevel  ...  RelationshipSatisfaction  StandardHours  \\\n",
       "count  1470.000000  ...               1470.000000         1470.0   \n",
       "mean      2.063946  ...                  2.712245           80.0   \n",
       "std       1.106940  ...                  1.081209            0.0   \n",
       "min       1.000000  ...                  1.000000           80.0   \n",
       "25%       1.000000  ...                  2.000000           80.0   \n",
       "50%       2.000000  ...                  3.000000           80.0   \n",
       "75%       3.000000  ...                  4.000000           80.0   \n",
       "max       5.000000  ...                  4.000000           80.0   \n",
       "\n",
       "       StockOptionLevel  TotalWorkingYears  TrainingTimesLastYear  \\\n",
       "count       1470.000000        1470.000000            1470.000000   \n",
       "mean           0.793878          11.279592               2.799320   \n",
       "std            0.852077           7.780782               1.289271   \n",
       "min            0.000000           0.000000               0.000000   \n",
       "25%            0.000000           6.000000               2.000000   \n",
       "50%            1.000000          10.000000               3.000000   \n",
       "75%            1.000000          15.000000               3.000000   \n",
       "max            3.000000          40.000000               6.000000   \n",
       "\n",
       "       WorkLifeBalance  YearsAtCompany  YearsInCurrentRole  \\\n",
       "count      1470.000000     1470.000000         1470.000000   \n",
       "mean          2.761224        7.008163            4.229252   \n",
       "std           0.706476        6.126525            3.623137   \n",
       "min           1.000000        0.000000            0.000000   \n",
       "25%           2.000000        3.000000            2.000000   \n",
       "50%           3.000000        5.000000            3.000000   \n",
       "75%           3.000000        9.000000            7.000000   \n",
       "max           4.000000       40.000000           18.000000   \n",
       "\n",
       "       YearsSinceLastPromotion  YearsWithCurrManager  \n",
       "count              1470.000000           1470.000000  \n",
       "mean                  2.187755              4.123129  \n",
       "std                   3.222430              3.568136  \n",
       "min                   0.000000              0.000000  \n",
       "25%                   0.000000              2.000000  \n",
       "50%                   1.000000              3.000000  \n",
       "75%                   3.000000              7.000000  \n",
       "max                  15.000000             17.000000  \n",
       "\n",
       "[8 rows x 26 columns]"
      ]
     },
     "execution_count": 22,
     "metadata": {},
     "output_type": "execute_result"
    }
   ],
   "source": [
    "df.describe()"
   ]
  },
  {
   "cell_type": "code",
   "execution_count": 23,
   "id": "0b8e8666",
   "metadata": {},
   "outputs": [],
   "source": [
    "def missing_perc(df):\n",
    "    \"\"\"\n",
    "    Function to calculate missing data % by column\n",
    "    given a data frame\n",
    "    \"\"\"\n",
    "    missing_df = pd.DataFrame()\n",
    "    missing_df['Col Name'] = list(df.columns)\n",
    "    missing_df['Missing %'] = [round(i/df.shape[0] * 100,2) for i in df.isnull().sum()]\n",
    "    missing_df.sort_values(by=['Missing %'], ascending=False,inplace=True)\n",
    "    missing_df['Missing %'] = missing_df['Missing %'].astype('str') + '%'\n",
    "    pd.set_option('display.max_rows', None)\n",
    "    return missing_df"
   ]
  },
  {
   "cell_type": "code",
   "execution_count": 24,
   "id": "77d504b9",
   "metadata": {},
   "outputs": [
    {
     "data": {
      "text/html": [
       "<div>\n",
       "<style scoped>\n",
       "    .dataframe tbody tr th:only-of-type {\n",
       "        vertical-align: middle;\n",
       "    }\n",
       "\n",
       "    .dataframe tbody tr th {\n",
       "        vertical-align: top;\n",
       "    }\n",
       "\n",
       "    .dataframe thead th {\n",
       "        text-align: right;\n",
       "    }\n",
       "</style>\n",
       "<table border=\"1\" class=\"dataframe\">\n",
       "  <thead>\n",
       "    <tr style=\"text-align: right;\">\n",
       "      <th></th>\n",
       "      <th>Col Name</th>\n",
       "      <th>Missing %</th>\n",
       "    </tr>\n",
       "  </thead>\n",
       "  <tbody>\n",
       "    <tr>\n",
       "      <th>0</th>\n",
       "      <td>Age</td>\n",
       "      <td>0.0%</td>\n",
       "    </tr>\n",
       "    <tr>\n",
       "      <th>26</th>\n",
       "      <td>StandardHours</td>\n",
       "      <td>0.0%</td>\n",
       "    </tr>\n",
       "    <tr>\n",
       "      <th>20</th>\n",
       "      <td>NumCompaniesWorked</td>\n",
       "      <td>0.0%</td>\n",
       "    </tr>\n",
       "    <tr>\n",
       "      <th>21</th>\n",
       "      <td>Over18</td>\n",
       "      <td>0.0%</td>\n",
       "    </tr>\n",
       "    <tr>\n",
       "      <th>22</th>\n",
       "      <td>OverTime</td>\n",
       "      <td>0.0%</td>\n",
       "    </tr>\n",
       "    <tr>\n",
       "      <th>23</th>\n",
       "      <td>PercentSalaryHike</td>\n",
       "      <td>0.0%</td>\n",
       "    </tr>\n",
       "    <tr>\n",
       "      <th>24</th>\n",
       "      <td>PerformanceRating</td>\n",
       "      <td>0.0%</td>\n",
       "    </tr>\n",
       "    <tr>\n",
       "      <th>25</th>\n",
       "      <td>RelationshipSatisfaction</td>\n",
       "      <td>0.0%</td>\n",
       "    </tr>\n",
       "    <tr>\n",
       "      <th>27</th>\n",
       "      <td>StockOptionLevel</td>\n",
       "      <td>0.0%</td>\n",
       "    </tr>\n",
       "    <tr>\n",
       "      <th>18</th>\n",
       "      <td>MonthlyIncome</td>\n",
       "      <td>0.0%</td>\n",
       "    </tr>\n",
       "    <tr>\n",
       "      <th>28</th>\n",
       "      <td>TotalWorkingYears</td>\n",
       "      <td>0.0%</td>\n",
       "    </tr>\n",
       "    <tr>\n",
       "      <th>29</th>\n",
       "      <td>TrainingTimesLastYear</td>\n",
       "      <td>0.0%</td>\n",
       "    </tr>\n",
       "    <tr>\n",
       "      <th>30</th>\n",
       "      <td>WorkLifeBalance</td>\n",
       "      <td>0.0%</td>\n",
       "    </tr>\n",
       "    <tr>\n",
       "      <th>31</th>\n",
       "      <td>YearsAtCompany</td>\n",
       "      <td>0.0%</td>\n",
       "    </tr>\n",
       "    <tr>\n",
       "      <th>32</th>\n",
       "      <td>YearsInCurrentRole</td>\n",
       "      <td>0.0%</td>\n",
       "    </tr>\n",
       "    <tr>\n",
       "      <th>33</th>\n",
       "      <td>YearsSinceLastPromotion</td>\n",
       "      <td>0.0%</td>\n",
       "    </tr>\n",
       "    <tr>\n",
       "      <th>19</th>\n",
       "      <td>MonthlyRate</td>\n",
       "      <td>0.0%</td>\n",
       "    </tr>\n",
       "    <tr>\n",
       "      <th>17</th>\n",
       "      <td>MaritalStatus</td>\n",
       "      <td>0.0%</td>\n",
       "    </tr>\n",
       "    <tr>\n",
       "      <th>1</th>\n",
       "      <td>Attrition</td>\n",
       "      <td>0.0%</td>\n",
       "    </tr>\n",
       "    <tr>\n",
       "      <th>8</th>\n",
       "      <td>EmployeeCount</td>\n",
       "      <td>0.0%</td>\n",
       "    </tr>\n",
       "    <tr>\n",
       "      <th>2</th>\n",
       "      <td>BusinessTravel</td>\n",
       "      <td>0.0%</td>\n",
       "    </tr>\n",
       "    <tr>\n",
       "      <th>3</th>\n",
       "      <td>DailyRate</td>\n",
       "      <td>0.0%</td>\n",
       "    </tr>\n",
       "    <tr>\n",
       "      <th>4</th>\n",
       "      <td>Department</td>\n",
       "      <td>0.0%</td>\n",
       "    </tr>\n",
       "    <tr>\n",
       "      <th>5</th>\n",
       "      <td>DistanceFromHome</td>\n",
       "      <td>0.0%</td>\n",
       "    </tr>\n",
       "    <tr>\n",
       "      <th>6</th>\n",
       "      <td>Education</td>\n",
       "      <td>0.0%</td>\n",
       "    </tr>\n",
       "    <tr>\n",
       "      <th>7</th>\n",
       "      <td>EducationField</td>\n",
       "      <td>0.0%</td>\n",
       "    </tr>\n",
       "    <tr>\n",
       "      <th>9</th>\n",
       "      <td>EmployeeNumber</td>\n",
       "      <td>0.0%</td>\n",
       "    </tr>\n",
       "    <tr>\n",
       "      <th>16</th>\n",
       "      <td>JobSatisfaction</td>\n",
       "      <td>0.0%</td>\n",
       "    </tr>\n",
       "    <tr>\n",
       "      <th>10</th>\n",
       "      <td>EnvironmentSatisfaction</td>\n",
       "      <td>0.0%</td>\n",
       "    </tr>\n",
       "    <tr>\n",
       "      <th>11</th>\n",
       "      <td>Gender</td>\n",
       "      <td>0.0%</td>\n",
       "    </tr>\n",
       "    <tr>\n",
       "      <th>12</th>\n",
       "      <td>HourlyRate</td>\n",
       "      <td>0.0%</td>\n",
       "    </tr>\n",
       "    <tr>\n",
       "      <th>13</th>\n",
       "      <td>JobInvolvement</td>\n",
       "      <td>0.0%</td>\n",
       "    </tr>\n",
       "    <tr>\n",
       "      <th>14</th>\n",
       "      <td>JobLevel</td>\n",
       "      <td>0.0%</td>\n",
       "    </tr>\n",
       "    <tr>\n",
       "      <th>15</th>\n",
       "      <td>JobRole</td>\n",
       "      <td>0.0%</td>\n",
       "    </tr>\n",
       "    <tr>\n",
       "      <th>34</th>\n",
       "      <td>YearsWithCurrManager</td>\n",
       "      <td>0.0%</td>\n",
       "    </tr>\n",
       "  </tbody>\n",
       "</table>\n",
       "</div>"
      ],
      "text/plain": [
       "                    Col Name Missing %\n",
       "0                        Age      0.0%\n",
       "26             StandardHours      0.0%\n",
       "20        NumCompaniesWorked      0.0%\n",
       "21                    Over18      0.0%\n",
       "22                  OverTime      0.0%\n",
       "23         PercentSalaryHike      0.0%\n",
       "24         PerformanceRating      0.0%\n",
       "25  RelationshipSatisfaction      0.0%\n",
       "27          StockOptionLevel      0.0%\n",
       "18             MonthlyIncome      0.0%\n",
       "28         TotalWorkingYears      0.0%\n",
       "29     TrainingTimesLastYear      0.0%\n",
       "30           WorkLifeBalance      0.0%\n",
       "31            YearsAtCompany      0.0%\n",
       "32        YearsInCurrentRole      0.0%\n",
       "33   YearsSinceLastPromotion      0.0%\n",
       "19               MonthlyRate      0.0%\n",
       "17             MaritalStatus      0.0%\n",
       "1                  Attrition      0.0%\n",
       "8              EmployeeCount      0.0%\n",
       "2             BusinessTravel      0.0%\n",
       "3                  DailyRate      0.0%\n",
       "4                 Department      0.0%\n",
       "5           DistanceFromHome      0.0%\n",
       "6                  Education      0.0%\n",
       "7             EducationField      0.0%\n",
       "9             EmployeeNumber      0.0%\n",
       "16           JobSatisfaction      0.0%\n",
       "10   EnvironmentSatisfaction      0.0%\n",
       "11                    Gender      0.0%\n",
       "12                HourlyRate      0.0%\n",
       "13            JobInvolvement      0.0%\n",
       "14                  JobLevel      0.0%\n",
       "15                   JobRole      0.0%\n",
       "34      YearsWithCurrManager      0.0%"
      ]
     },
     "execution_count": 24,
     "metadata": {},
     "output_type": "execute_result"
    }
   ],
   "source": [
    "# Calculate missing data % per column\n",
    "missing_perc(df)"
   ]
  },
  {
   "cell_type": "code",
   "execution_count": 25,
   "id": "2aa0692f",
   "metadata": {},
   "outputs": [
    {
     "data": {
      "image/png": "[encoded data removed]",
      "text/plain": [
       "<Figure size 1500x1200 with 9 Axes>"
      ]
     },
     "metadata": {},
     "output_type": "display_data"
    }
   ],
   "source": [
    "# Look at distribution for numerical variables\n",
    "\n",
    "# Predefined colormaps for each plot\n",
    "colormaps = [\n",
    "    'Blues', 'Oranges', 'Greens', 'Reds', 'Purples',\n",
    "    'Greys', 'YlOrBr', 'coolwarm', 'viridis'\n",
    "]\n",
    "\n",
    "# Define plot titles and corresponding dataframe columns\n",
    "plot_config = [\n",
    "    ('Age', 'TotalWorkingYears', 'Age vs Total Working Years'),\n",
    "    ('Age', 'DailyRate', 'Age vs Daily Rate'),\n",
    "    ('YearsInCurrentRole', 'Age', 'Years in Current Role vs Age'),\n",
    "    ('DailyRate', 'DistanceFromHome', 'Daily Rate vs Distance from Home'),\n",
    "    ('DailyRate', 'JobSatisfaction', 'Daily Rate vs Job Satisfaction'),\n",
    "    ('YearsAtCompany', 'JobSatisfaction', 'Years at Company vs Job Satisfaction'),\n",
    "    ('YearsAtCompany', 'DailyRate', 'Years at Company vs Daily Rate'),\n",
    "    ('RelationshipSatisfaction', 'YearsWithCurrManager', 'Relationship Satisfaction vs Years with Manager'),\n",
    "    ('WorkLifeBalance', 'JobSatisfaction', 'Work-Life Balance vs Job Satisfaction')\n",
    "]\n",
    "\n",
    "# Create a 3x3 subplot structure\n",
    "fig, axes = plt.subplots(3, 3, figsize=(15, 12))\n",
    "\n",
    "# Flatten the axes array for easy indexing\n",
    "axes = axes.flatten()\n",
    "\n",
    "# Loop through the plot configuration to create each subplot\n",
    "for i, (x_col, y_col, title) in enumerate(plot_config):\n",
    "    sns.kdeplot(x=df[x_col], y=df[y_col], shade=True, cmap=colormaps[i], ax=axes[i])\n",
    "    axes[i].set_title(title)\n",
    "    axes[i].set_xlabel(x_col)\n",
    "    axes[i].set_ylabel(y_col)\n",
    "\n",
    "# Adjust the layout\n",
    "plt.tight_layout()\n",
    "plt.show()"
   ]
  },
  {
   "cell_type": "code",
   "execution_count": 26,
   "id": "5d307441",
   "metadata": {},
   "outputs": [],
   "source": [
    "# Define a dictionary for the target mapping\n",
    "target_map = {'Yes':1, 'No':0}\n",
    "# Use the pandas apply method to numerically encode our attrition target variable\n",
    "df[\"Attrition_numerical\"] = df[\"Attrition\"].apply(lambda x: target_map[x])"
   ]
  },
  {
   "cell_type": "code",
   "execution_count": 27,
   "id": "764f943c",
   "metadata": {},
   "outputs": [
    {
     "data": {
      "application/vnd.plotly.v1+json": {
       "config": {
        "linkText": "Export to plot.ly",
        "plotlyServerURL": "https://plot.ly",
        "showLink": false
       },
       "data": [
        {
         "colorscale": [
          [
           0,
           "#440154"
          ],
          [
           0.1111111111111111,
           "#482878"
          ],
          [
           0.2222222222222222,
           "#3e4989"
          ],
          [
           0.3333333333333333,
           "#31688e"
          ],
          [
           0.4444444444444444,
           "#26828e"
          ],
          [
           0.5555555555555556,
           "#1f9e89"
          ],
          [
           0.6666666666666666,
           "#35b779"
          ],
          [
           0.7777777777777778,
           "#6ece58"
          ],
          [
           0.8888888888888888,
           "#b5de2b"
          ],
          [
           1,
           "#fde725"
          ]
         ],
         "opacity": 1,
         "reversescale": false,
         "type": "heatmap",
         "x": [
          "Age",
          "DailyRate",
          "DistanceFromHome",
          "Education",
          "EmployeeNumber",
          "EnvironmentSatisfaction",
          "HourlyRate",
          "JobInvolvement",
          "JobLevel",
          "JobSatisfaction",
          "MonthlyIncome",
          "MonthlyRate",
          "NumCompaniesWorked",
          "PercentSalaryHike",
          "PerformanceRating",
          "RelationshipSatisfaction",
          "StockOptionLevel",
          "TotalWorkingYears",
          "TrainingTimesLastYear",
          "WorkLifeBalance",
          "YearsAtCompany",
          "YearsInCurrentRole",
          "YearsSinceLastPromotion",
          "YearsWithCurrManager"
         ],
         "y": [
          "Age",
          "DailyRate",
          "DistanceFromHome",
          "Education",
          "EmployeeNumber",
          "EnvironmentSatisfaction",
          "HourlyRate",
          "JobInvolvement",
          "JobLevel",
          "JobSatisfaction",
          "MonthlyIncome",
          "MonthlyRate",
          "NumCompaniesWorked",
          "PercentSalaryHike",
          "PerformanceRating",
          "RelationshipSatisfaction",
          "StockOptionLevel",
          "TotalWorkingYears",
          "TrainingTimesLastYear",
          "WorkLifeBalance",
          "YearsAtCompany",
          "YearsInCurrentRole",
          "YearsSinceLastPromotion",
          "YearsWithCurrManager"
         ],
         "z": [
          [
           1,
           0.010660942645538433,
           -0.00168612014808715,
           0.2080337310142398,
           -0.0101454670768599,
           0.010146427861437268,
           0.024286542550967197,
           0.029819958629590578,
           0.5096042284323842,
           -0.00489187714868713,
           0.4978545669265801,
           0.02805116713392273,
           0.2996347579836926,
           0.0036335849148618872,
           0.0019038955127587383,
           0.053534719671229365,
           0.037509712424777526,
           0.6803805357911985,
           -0.01962081894269849,
           -0.021490027957098715,
           0.3113087697450989,
           0.21290105556556793,
           0.2165133678516537,
           0.20208860237515264
          ],
          [
           0.010660942645538433,
           1,
           -0.00498533735255263,
           -0.01680643320915763,
           -0.05099043365447757,
           0.018354854300385557,
           0.023381421528320526,
           0.04613487399781112,
           0.0029663348551116197,
           0.030571007837143983,
           0.007707058872006053,
           -0.03218160152258194,
           0.0381534342794098,
           0.022703677496334968,
           0.00047329632718855213,
           0.007846030957248387,
           0.04214279637720667,
           0.014514738706320902,
           0.002452542712083144,
           -0.03784805100578179,
           -0.03405476756854742,
           0.009932014960094215,
           -0.033228984787772024,
           -0.026363178228837676
          ],
          [
           -0.00168612014808715,
           -0.00498533735255263,
           1,
           0.021041825624123392,
           0.032916407199243845,
           -0.016075326996493524,
           0.03113058561176572,
           0.008783279886444255,
           0.005302730554496216,
           -0.0036688391677205793,
           -0.017014444745275862,
           0.02747286354888413,
           -0.029250804197293017,
           0.040235377459193075,
           0.027109618481976,
           0.006557474646578779,
           0.04487199885318152,
           0.004628425863783857,
           -0.036942234339915794,
           -0.02655600410656903,
           0.009507719899011289,
           0.018844999108945746,
           0.010028835943115395,
           0.014406048430630005
          ],
          [
           0.2080337310142398,
           -0.01680643320915763,
           0.021041825624123392,
           1,
           0.042070093029327675,
           -0.027128313256511792,
           0.01677482888096076,
           0.042437634318607954,
           0.10158888624850043,
           -0.011296116736574002,
           0.09496067704188883,
           -0.026084197160047493,
           0.12631656017668452,
           -0.011110940860654192,
           -0.024538791164833557,
           -0.009118376696381533,
           0.018422220204016834,
           0.1482796965388733,
           -0.025100241137933348,
           0.00981918930978191,
           0.06911369603133866,
           0.06023555412069576,
           0.054254333591320224,
           0.06906537825528458
          ],
          [
           -0.0101454670768599,
           -0.05099043365447757,
           0.032916407199243845,
           0.042070093029327675,
           1,
           0.017620802485586586,
           0.035179212418708077,
           -0.0068879229870375,
           -0.018519193974227376,
           -0.04624673493941775,
           -0.01482851587378469,
           0.012648229168461627,
           -0.0012510320398018396,
           -0.012943995546151714,
           -0.02035882514695762,
           -0.06986141146763755,
           0.06222669251362305,
           -0.014365198461301121,
           0.023603169591926734,
           0.010308641437965905,
           -0.011240463708114047,
           -0.008416311998425954,
           -0.009019064206633414,
           -0.009196645292770315
          ],
          [
           0.010146427861437268,
           0.018354854300385557,
           -0.016075326996493524,
           -0.027128313256511792,
           0.017620802485586586,
           1,
           -0.04985695620300066,
           -0.008277598171759099,
           0.001211699448913883,
           -0.006784352599075007,
           -0.0062590877547801654,
           0.037599622865715374,
           0.012594323218943297,
           -0.031701195241792046,
           -0.02954795229768088,
           0.007665383541074558,
           0.0034321577550574162,
           -0.002693070388534207,
           -0.01935930834713247,
           0.027627295460115428,
           0.0014575491911164862,
           0.01800746014287853,
           0.016193605568453326,
           -0.004998722628107581
          ],
          [
           0.024286542550967197,
           0.023381421528320526,
           0.03113058561176572,
           0.01677482888096076,
           0.035179212418708077,
           -0.04985695620300066,
           1,
           0.04286064097152976,
           -0.027853486405547218,
           -0.07133462437378787,
           -0.015794304380892982,
           -0.015296749550649661,
           0.02215688339019683,
           -0.00906198625374016,
           -0.002171697427810162,
           0.0013304527859508606,
           0.050263399065119486,
           -0.002333681823322269,
           -0.008547685209270649,
           -0.004607233750264554,
           -0.019581616209121275,
           -0.02410622020878498,
           -0.02671558606433524,
           -0.020123200184066006
          ],
          [
           0.029819958629590578,
           0.04613487399781112,
           0.008783279886444255,
           0.042437634318607954,
           -0.0068879229870375,
           -0.008277598171759099,
           0.04286064097152976,
           1,
           -0.012629882671190631,
           -0.021475910335306454,
           -0.015271490778732832,
           -0.016322079053317298,
           0.015012413243110999,
           -0.017204572244480378,
           -0.029071333439069817,
           0.034296820611197744,
           0.021522640378023858,
           -0.0055331820574074635,
           -0.015337825759429116,
           -0.014616593162761865,
           -0.021355426979629725,
           0.00871696349761169,
           -0.024184292365179074,
           0.025975807949088936
          ],
          [
           0.5096042284323842,
           0.0029663348551116197,
           0.005302730554496216,
           0.10158888624850043,
           -0.018519193974227376,
           0.001211699448913883,
           -0.027853486405547218,
           -0.012629882671190631,
           1,
           -0.0019437080267456581,
           0.9502999134798473,
           0.03956295104568388,
           0.1425011238104873,
           -0.03473049227941817,
           -0.021222082108857152,
           0.021641510532591595,
           0.013983910528615457,
           0.7822078045362748,
           -0.018190550193549416,
           0.037817745596666404,
           0.5347386873756308,
           0.3894467328766705,
           0.3538853469641021,
           0.37528060776572636
          ],
          [
           -0.00489187714868713,
           0.030571007837143983,
           -0.0036688391677205793,
           -0.011296116736574002,
           -0.04624673493941775,
           -0.006784352599075007,
           -0.07133462437378787,
           -0.021475910335306454,
           -0.0019437080267456581,
           1,
           -0.00715674235591272,
           0.0006439169427037768,
           -0.05569942601274605,
           0.020002039364081927,
           0.0022971970637806114,
           -0.012453593161926702,
           0.010690226120755746,
           -0.020185072685016788,
           -0.005779334958609115,
           -0.01945871021297396,
           -0.0038026279482880534,
           -0.002304785229830135,
           -0.01821356781019079,
           -0.027656213884289974
          ],
          [
           0.4978545669265801,
           0.007707058872006053,
           -0.017014444745275862,
           0.09496067704188883,
           -0.01482851587378469,
           -0.0062590877547801654,
           -0.015794304380892982,
           -0.015271490778732832,
           0.9502999134798473,
           -0.00715674235591272,
           1,
           0.034813626134121846,
           0.14951521598969805,
           -0.02726858644031447,
           -0.01712013823739077,
           0.025873436137557656,
           0.005407676696812238,
           0.7728932462543574,
           -0.02173627682389331,
           0.030683081556940557,
           0.5142848257331957,
           0.3638176669287084,
           0.3449776381654271,
           0.34407888325872127
          ],
          [
           0.02805116713392273,
           -0.03218160152258194,
           0.02747286354888413,
           -0.026084197160047493,
           0.012648229168461627,
           0.037599622865715374,
           -0.015296749550649661,
           -0.016322079053317298,
           0.03956295104568388,
           0.0006439169427037768,
           0.034813626134121846,
           1,
           0.017521353415571563,
           -0.006429345946711407,
           -0.00981142848936084,
           -0.004085329337519686,
           -0.034322830206660805,
           0.026442471176015385,
           0.0014668806322858448,
           0.007963157516977033,
           -0.023655106706177275,
           -0.012814874370471728,
           0.001566799514676175,
           -0.036745905336769386
          ],
          [
           0.2996347579836926,
           0.0381534342794098,
           -0.029250804197293017,
           0.12631656017668452,
           -0.0012510320398018396,
           0.012594323218943297,
           0.02215688339019683,
           0.015012413243110999,
           0.1425011238104873,
           -0.05569942601274605,
           0.14951521598969805,
           0.017521353415571563,
           1,
           -0.010238309359925521,
           -0.014094872753535133,
           0.05273304856488617,
           0.030075475096897484,
           0.23763858978479552,
           -0.06605407172783646,
           -0.008365684790058631,
           -0.11842134024259104,
           -0.0907539337008081,
           -0.03681389238350808,
           -0.11031915543773241
          ],
          [
           0.0036335849148618872,
           0.022703677496334968,
           0.040235377459193075,
           -0.011110940860654192,
           -0.012943995546151714,
           -0.031701195241792046,
           -0.00906198625374016,
           -0.017204572244480378,
           -0.03473049227941817,
           0.020002039364081927,
           -0.02726858644031447,
           -0.006429345946711407,
           -0.010238309359925521,
           1,
           0.7735499964012664,
           -0.04049008105707734,
           0.0075277478205202026,
           -0.020608487617691264,
           -0.005221012351721004,
           -0.0032796360093680704,
           -0.03599126243195373,
           -0.0015200265442777774,
           -0.022154312598866126,
           -0.01198524847236139
          ],
          [
           0.0019038955127587383,
           0.00047329632718855213,
           0.027109618481976,
           -0.024538791164833557,
           -0.02035882514695762,
           -0.02954795229768088,
           -0.002171697427810162,
           -0.029071333439069817,
           -0.021222082108857152,
           0.0022971970637806114,
           -0.01712013823739077,
           -0.00981142848936084,
           -0.014094872753535133,
           0.7735499964012664,
           1,
           -0.031351455442454886,
           0.003506471614809783,
           0.0067436679059531685,
           -0.015578881739137565,
           0.002572361317682639,
           0.0034351261159238713,
           0.034986260407194936,
           0.017896066144799785,
           0.022827168908479807
          ],
          [
           0.053534719671229365,
           0.007846030957248387,
           0.006557474646578779,
           -0.009118376696381533,
           -0.06986141146763755,
           0.007665383541074558,
           0.0013304527859508606,
           0.034296820611197744,
           0.021641510532591595,
           -0.012453593161926702,
           0.025873436137557656,
           -0.004085329337519686,
           0.05273304856488617,
           -0.04049008105707734,
           -0.031351455442454886,
           1,
           -0.045952490716561906,
           0.02405429182134145,
           0.002496526392116996,
           0.01960440570396871,
           0.019366786877455463,
           -0.015122914881937748,
           0.033492502069354176,
           -0.0008674968446256695
          ],
          [
           0.037509712424777526,
           0.04214279637720667,
           0.04487199885318152,
           0.018422220204016834,
           0.06222669251362305,
           0.0034321577550574162,
           0.050263399065119486,
           0.021522640378023858,
           0.013983910528615457,
           0.010690226120755746,
           0.005407676696812238,
           -0.034322830206660805,
           0.030075475096897484,
           0.0075277478205202026,
           0.003506471614809783,
           -0.045952490716561906,
           1,
           0.010135969318901629,
           0.011274069611249207,
           0.004128730002871338,
           0.015058008028094509,
           0.050817872753931646,
           0.01435218486435548,
           0.02469822656303012
          ],
          [
           0.6803805357911985,
           0.014514738706320902,
           0.004628425863783857,
           0.1482796965388733,
           -0.014365198461301121,
           -0.002693070388534207,
           -0.002333681823322269,
           -0.0055331820574074635,
           0.7822078045362748,
           -0.020185072685016788,
           0.7728932462543574,
           0.026442471176015385,
           0.23763858978479552,
           -0.020608487617691264,
           0.0067436679059531685,
           0.02405429182134145,
           0.010135969318901629,
           1,
           -0.03566157127961907,
           0.0010076456218964924,
           0.6281331552682468,
           0.46036463801180993,
           0.4048577585025587,
           0.45918839708314385
          ],
          [
           -0.01962081894269849,
           0.002452542712083144,
           -0.036942234339915794,
           -0.025100241137933348,
           0.023603169591926734,
           -0.01935930834713247,
           -0.008547685209270649,
           -0.015337825759429116,
           -0.018190550193549416,
           -0.005779334958609115,
           -0.02173627682389331,
           0.0014668806322858448,
           -0.06605407172783646,
           -0.005221012351721004,
           -0.015578881739137565,
           0.002496526392116996,
           0.011274069611249207,
           -0.03566157127961907,
           1,
           0.02807220660362872,
           0.003568665678427449,
           -0.0057375043379568925,
           -0.0020665360380059438,
           -0.004095526021226202
          ],
          [
           -0.021490027957098715,
           -0.03784805100578179,
           -0.02655600410656903,
           0.00981918930978191,
           0.010308641437965905,
           0.027627295460115428,
           -0.004607233750264554,
           -0.014616593162761865,
           0.037817745596666404,
           -0.01945871021297396,
           0.030683081556940557,
           0.007963157516977033,
           -0.008365684790058631,
           -0.0032796360093680704,
           0.002572361317682639,
           0.01960440570396871,
           0.004128730002871338,
           0.0010076456218964924,
           0.02807220660362872,
           1,
           0.012089185354581315,
           0.04985649792220436,
           0.008941249141234323,
           0.002759440242340428
          ],
          [
           0.3113087697450989,
           -0.03405476756854742,
           0.009507719899011289,
           0.06911369603133866,
           -0.011240463708114047,
           0.0014575491911164862,
           -0.019581616209121275,
           -0.021355426979629725,
           0.5347386873756308,
           -0.0038026279482880534,
           0.5142848257331957,
           -0.023655106706177275,
           -0.11842134024259104,
           -0.03599126243195373,
           0.0034351261159238713,
           0.019366786877455463,
           0.015058008028094509,
           0.6281331552682468,
           0.003568665678427449,
           0.012089185354581315,
           1,
           0.7587537366134619,
           0.6184088652176047,
           0.7692124251007031
          ],
          [
           0.21290105556556793,
           0.009932014960094215,
           0.018844999108945746,
           0.06023555412069576,
           -0.008416311998425954,
           0.01800746014287853,
           -0.02410622020878498,
           0.00871696349761169,
           0.3894467328766705,
           -0.002304785229830135,
           0.3638176669287084,
           -0.012814874370471728,
           -0.0907539337008081,
           -0.0015200265442777774,
           0.034986260407194936,
           -0.015122914881937748,
           0.050817872753931646,
           0.46036463801180993,
           -0.0057375043379568925,
           0.04985649792220436,
           0.7587537366134619,
           1,
           0.5480562476995187,
           0.7143647616385931
          ],
          [
           0.2165133678516537,
           -0.033228984787772024,
           0.010028835943115395,
           0.054254333591320224,
           -0.009019064206633414,
           0.016193605568453326,
           -0.02671558606433524,
           -0.024184292365179074,
           0.3538853469641021,
           -0.01821356781019079,
           0.3449776381654271,
           0.001566799514676175,
           -0.03681389238350808,
           -0.022154312598866126,
           0.017896066144799785,
           0.033492502069354176,
           0.01435218486435548,
           0.4048577585025587,
           -0.0020665360380059438,
           0.008941249141234323,
           0.6184088652176047,
           0.5480562476995187,
           1,
           0.5102236357788085
          ],
          [
           0.20208860237515264,
           -0.026363178228837676,
           0.014406048430630005,
           0.06906537825528458,
           -0.009196645292770315,
           -0.004998722628107581,
           -0.020123200184066006,
           0.025975807949088936,
           0.37528060776572636,
           -0.027656213884289974,
           0.34407888325872127,
           -0.036745905336769386,
           -0.11031915543773241,
           -0.01198524847236139,
           0.022827168908479807,
           -0.0008674968446256695,
           0.02469822656303012,
           0.45918839708314385,
           -0.004095526021226202,
           0.002759440242340428,
           0.7692124251007031,
           0.7143647616385931,
           0.5102236357788085,
           1
          ]
         ]
        }
       ],
       "layout": {
        "height": 700,
        "template": {
         "data": {
          "bar": [
           {
            "error_x": {
             "color": "#2a3f5f"
            },
            "error_y": {
             "color": "#2a3f5f"
            },
            "marker": {
             "line": {
              "color": "#E5ECF6",
              "width": 0.5
             },
             "pattern": {
              "fillmode": "overlay",
              "size": 10,
              "solidity": 0.2
             }
            },
            "type": "bar"
           }
          ],
          "barpolar": [
           {
            "marker": {
             "line": {
              "color": "#E5ECF6",
              "width": 0.5
             },
             "pattern": {
              "fillmode": "overlay",
              "size": 10,
              "solidity": 0.2
             }
            },
            "type": "barpolar"
           }
          ],
          "carpet": [
           {
            "aaxis": {
             "endlinecolor": "#2a3f5f",
             "gridcolor": "white",
             "linecolor": "white",
             "minorgridcolor": "white",
             "startlinecolor": "#2a3f5f"
            },
            "baxis": {
             "endlinecolor": "#2a3f5f",
             "gridcolor": "white",
             "linecolor": "white",
             "minorgridcolor": "white",
             "startlinecolor": "#2a3f5f"
            },
            "type": "carpet"
           }
          ],
          "choropleth": [
           {
            "colorbar": {
             "outlinewidth": 0,
             "ticks": ""
            },
            "type": "choropleth"
           }
          ],
          "contour": [
           {
            "colorbar": {
             "outlinewidth": 0,
             "ticks": ""
            },
            "colorscale": [
             [
              0,
              "#0d0887"
             ],
             [
              0.1111111111111111,
              "#46039f"
             ],
             [
              0.2222222222222222,
              "#7201a8"
             ],
             [
              0.3333333333333333,
              "#9c179e"
             ],
             [
              0.4444444444444444,
              "#bd3786"
             ],
             [
              0.5555555555555556,
              "#d8576b"
             ],
             [
              0.6666666666666666,
              "#ed7953"
             ],
             [
              0.7777777777777778,
              "#fb9f3a"
             ],
             [
              0.8888888888888888,
              "#fdca26"
             ],
             [
              1,
              "#f0f921"
             ]
            ],
            "type": "contour"
           }
          ],
          "contourcarpet": [
           {
            "colorbar": {
             "outlinewidth": 0,
             "ticks": ""
            },
            "type": "contourcarpet"
           }
          ],
          "heatmap": [
           {
            "colorbar": {
             "outlinewidth": 0,
             "ticks": ""
            },
            "colorscale": [
             [
              0,
              "#0d0887"
             ],
             [
              0.1111111111111111,
              "#46039f"
             ],
             [
              0.2222222222222222,
              "#7201a8"
             ],
             [
              0.3333333333333333,
              "#9c179e"
             ],
             [
              0.4444444444444444,
              "#bd3786"
             ],
             [
              0.5555555555555556,
              "#d8576b"
             ],
             [
              0.6666666666666666,
              "#ed7953"
             ],
             [
              0.7777777777777778,
              "#fb9f3a"
             ],
             [
              0.8888888888888888,
              "#fdca26"
             ],
             [
              1,
              "#f0f921"
             ]
            ],
            "type": "heatmap"
           }
          ],
          "heatmapgl": [
           {
            "colorbar": {
             "outlinewidth": 0,
             "ticks": ""
            },
            "colorscale": [
             [
              0,
              "#0d0887"
             ],
             [
              0.1111111111111111,
              "#46039f"
             ],
             [
              0.2222222222222222,
              "#7201a8"
             ],
             [
              0.3333333333333333,
              "#9c179e"
             ],
             [
              0.4444444444444444,
              "#bd3786"
             ],
             [
              0.5555555555555556,
              "#d8576b"
             ],
             [
              0.6666666666666666,
              "#ed7953"
             ],
             [
              0.7777777777777778,
              "#fb9f3a"
             ],
             [
              0.8888888888888888,
              "#fdca26"
             ],
             [
              1,
              "#f0f921"
             ]
            ],
            "type": "heatmapgl"
           }
          ],
          "histogram": [
           {
            "marker": {
             "pattern": {
              "fillmode": "overlay",
              "size": 10,
              "solidity": 0.2
             }
            },
            "type": "histogram"
           }
          ],
          "histogram2d": [
           {
            "colorbar": {
             "outlinewidth": 0,
             "ticks": ""
            },
            "colorscale": [
             [
              0,
              "#0d0887"
             ],
             [
              0.1111111111111111,
              "#46039f"
             ],
             [
              0.2222222222222222,
              "#7201a8"
             ],
             [
              0.3333333333333333,
              "#9c179e"
             ],
             [
              0.4444444444444444,
              "#bd3786"
             ],
             [
              0.5555555555555556,
              "#d8576b"
             ],
             [
              0.6666666666666666,
              "#ed7953"
             ],
             [
              0.7777777777777778,
              "#fb9f3a"
             ],
             [
              0.8888888888888888,
              "#fdca26"
             ],
             [
              1,
              "#f0f921"
             ]
            ],
            "type": "histogram2d"
           }
          ],
          "histogram2dcontour": [
           {
            "colorbar": {
             "outlinewidth": 0,
             "ticks": ""
            },
            "colorscale": [
             [
              0,
              "#0d0887"
             ],
             [
              0.1111111111111111,
              "#46039f"
             ],
             [
              0.2222222222222222,
              "#7201a8"
             ],
             [
              0.3333333333333333,
              "#9c179e"
             ],
             [
              0.4444444444444444,
              "#bd3786"
             ],
             [
              0.5555555555555556,
              "#d8576b"
             ],
             [
              0.6666666666666666,
              "#ed7953"
             ],
             [
              0.7777777777777778,
              "#fb9f3a"
             ],
             [
              0.8888888888888888,
              "#fdca26"
             ],
             [
              1,
              "#f0f921"
             ]
            ],
            "type": "histogram2dcontour"
           }
          ],
          "mesh3d": [
           {
            "colorbar": {
             "outlinewidth": 0,
             "ticks": ""
            },
            "type": "mesh3d"
           }
          ],
          "parcoords": [
           {
            "line": {
             "colorbar": {
              "outlinewidth": 0,
              "ticks": ""
             }
            },
            "type": "parcoords"
           }
          ],
          "pie": [
           {
            "automargin": true,
            "type": "pie"
           }
          ],
          "scatter": [
           {
            "fillpattern": {
             "fillmode": "overlay",
             "size": 10,
             "solidity": 0.2
            },
            "type": "scatter"
           }
          ],
          "scatter3d": [
           {
            "line": {
             "colorbar": {
              "outlinewidth": 0,
              "ticks": ""
             }
            },
            "marker": {
             "colorbar": {
              "outlinewidth": 0,
              "ticks": ""
             }
            },
            "type": "scatter3d"
           }
          ],
          "scattercarpet": [
           {
            "marker": {
             "colorbar": {
              "outlinewidth": 0,
              "ticks": ""
             }
            },
            "type": "scattercarpet"
           }
          ],
          "scattergeo": [
           {
            "marker": {
             "colorbar": {
              "outlinewidth": 0,
              "ticks": ""
             }
            },
            "type": "scattergeo"
           }
          ],
          "scattergl": [
           {
            "marker": {
             "colorbar": {
              "outlinewidth": 0,
              "ticks": ""
             }
            },
            "type": "scattergl"
           }
          ],
          "scattermapbox": [
           {
            "marker": {
             "colorbar": {
              "outlinewidth": 0,
              "ticks": ""
             }
            },
            "type": "scattermapbox"
           }
          ],
          "scatterpolar": [
           {
            "marker": {
             "colorbar": {
              "outlinewidth": 0,
              "ticks": ""
             }
            },
            "type": "scatterpolar"
           }
          ],
          "scatterpolargl": [
           {
            "marker": {
             "colorbar": {
              "outlinewidth": 0,
              "ticks": ""
             }
            },
            "type": "scatterpolargl"
           }
          ],
          "scatterternary": [
           {
            "marker": {
             "colorbar": {
              "outlinewidth": 0,
              "ticks": ""
             }
            },
            "type": "scatterternary"
           }
          ],
          "surface": [
           {
            "colorbar": {
             "outlinewidth": 0,
             "ticks": ""
            },
            "colorscale": [
             [
              0,
              "#0d0887"
             ],
             [
              0.1111111111111111,
              "#46039f"
             ],
             [
              0.2222222222222222,
              "#7201a8"
             ],
             [
              0.3333333333333333,
              "#9c179e"
             ],
             [
              0.4444444444444444,
              "#bd3786"
             ],
             [
              0.5555555555555556,
              "#d8576b"
             ],
             [
              0.6666666666666666,
              "#ed7953"
             ],
             [
              0.7777777777777778,
              "#fb9f3a"
             ],
             [
              0.8888888888888888,
              "#fdca26"
             ],
             [
              1,
              "#f0f921"
             ]
            ],
            "type": "surface"
           }
          ],
          "table": [
           {
            "cells": {
             "fill": {
              "color": "#EBF0F8"
             },
             "line": {
              "color": "white"
             }
            },
            "header": {
             "fill": {
              "color": "#C8D4E3"
             },
             "line": {
              "color": "white"
             }
            },
            "type": "table"
           }
          ]
         },
         "layout": {
          "annotationdefaults": {
           "arrowcolor": "#2a3f5f",
           "arrowhead": 0,
           "arrowwidth": 1
          },
          "autotypenumbers": "strict",
          "coloraxis": {
           "colorbar": {
            "outlinewidth": 0,
            "ticks": ""
           }
          },
          "colorscale": {
           "diverging": [
            [
             0,
             "#8e0152"
            ],
            [
             0.1,
             "#c51b7d"
            ],
            [
             0.2,
             "#de77ae"
            ],
            [
             0.3,
             "#f1b6da"
            ],
            [
             0.4,
             "#fde0ef"
            ],
            [
             0.5,
             "#f7f7f7"
            ],
            [
             0.6,
             "#e6f5d0"
            ],
            [
             0.7,
             "#b8e186"
            ],
            [
             0.8,
             "#7fbc41"
            ],
            [
             0.9,
             "#4d9221"
            ],
            [
             1,
             "#276419"
            ]
           ],
           "sequential": [
            [
             0,
             "#0d0887"
            ],
            [
             0.1111111111111111,
             "#46039f"
            ],
            [
             0.2222222222222222,
             "#7201a8"
            ],
            [
             0.3333333333333333,
             "#9c179e"
            ],
            [
             0.4444444444444444,
             "#bd3786"
            ],
            [
             0.5555555555555556,
             "#d8576b"
            ],
            [
             0.6666666666666666,
             "#ed7953"
            ],
            [
             0.7777777777777778,
             "#fb9f3a"
            ],
            [
             0.8888888888888888,
             "#fdca26"
            ],
            [
             1,
             "#f0f921"
            ]
           ],
           "sequentialminus": [
            [
             0,
             "#0d0887"
            ],
            [
             0.1111111111111111,
             "#46039f"
            ],
            [
             0.2222222222222222,
             "#7201a8"
            ],
            [
             0.3333333333333333,
             "#9c179e"
            ],
            [
             0.4444444444444444,
             "#bd3786"
            ],
            [
             0.5555555555555556,
             "#d8576b"
            ],
            [
             0.6666666666666666,
             "#ed7953"
            ],
            [
             0.7777777777777778,
             "#fb9f3a"
            ],
            [
             0.8888888888888888,
             "#fdca26"
            ],
            [
             1,
             "#f0f921"
            ]
           ]
          },
          "colorway": [
           "#636efa",
           "#EF553B",
           "#00cc96",
           "#ab63fa",
           "#FFA15A",
           "#19d3f3",
           "#FF6692",
           "#B6E880",
           "#FF97FF",
           "#FECB52"
          ],
          "font": {
           "color": "#2a3f5f"
          },
          "geo": {
           "bgcolor": "white",
           "lakecolor": "white",
           "landcolor": "#E5ECF6",
           "showlakes": true,
           "showland": true,
           "subunitcolor": "white"
          },
          "hoverlabel": {
           "align": "left"
          },
          "hovermode": "closest",
          "mapbox": {
           "style": "light"
          },
          "paper_bgcolor": "white",
          "plot_bgcolor": "#E5ECF6",
          "polar": {
           "angularaxis": {
            "gridcolor": "white",
            "linecolor": "white",
            "ticks": ""
           },
           "bgcolor": "#E5ECF6",
           "radialaxis": {
            "gridcolor": "white",
            "linecolor": "white",
            "ticks": ""
           }
          },
          "scene": {
           "xaxis": {
            "backgroundcolor": "#E5ECF6",
            "gridcolor": "white",
            "gridwidth": 2,
            "linecolor": "white",
            "showbackground": true,
            "ticks": "",
            "zerolinecolor": "white"
           },
           "yaxis": {
            "backgroundcolor": "#E5ECF6",
            "gridcolor": "white",
            "gridwidth": 2,
            "linecolor": "white",
            "showbackground": true,
            "ticks": "",
            "zerolinecolor": "white"
           },
           "zaxis": {
            "backgroundcolor": "#E5ECF6",
            "gridcolor": "white",
            "gridwidth": 2,
            "linecolor": "white",
            "showbackground": true,
            "ticks": "",
            "zerolinecolor": "white"
           }
          },
          "shapedefaults": {
           "line": {
            "color": "#2a3f5f"
           }
          },
          "ternary": {
           "aaxis": {
            "gridcolor": "white",
            "linecolor": "white",
            "ticks": ""
           },
           "baxis": {
            "gridcolor": "white",
            "linecolor": "white",
            "ticks": ""
           },
           "bgcolor": "#E5ECF6",
           "caxis": {
            "gridcolor": "white",
            "linecolor": "white",
            "ticks": ""
           }
          },
          "title": {
           "x": 0.05
          },
          "xaxis": {
           "automargin": true,
           "gridcolor": "white",
           "linecolor": "white",
           "ticks": "",
           "title": {
            "standoff": 15
           },
           "zerolinecolor": "white",
           "zerolinewidth": 2
          },
          "yaxis": {
           "automargin": true,
           "gridcolor": "white",
           "linecolor": "white",
           "ticks": "",
           "title": {
            "standoff": 15
           },
           "zerolinecolor": "white",
           "zerolinewidth": 2
          }
         }
        },
        "title": {
         "text": "Pearson Correlation of numerical features"
        },
        "width": 900,
        "xaxis": {
         "nticks": 36,
         "ticks": ""
        },
        "yaxis": {
         "ticks": ""
        }
       }
      },
      "text/html": [
       "<div>                            <div id=\"ce0b58ee-911c-467c-9ab3-d64620e3b9e5\" class=\"plotly-graph-div\" style=\"height:700px; width:900px;\"></div>            <script type=\"text/javascript\">                require([\"plotly\"], function(Plotly) {                    window.PLOTLYENV=window.PLOTLYENV || {};                                    if (document.getElementById(\"ce0b58ee-911c-467c-9ab3-d64620e3b9e5\")) {                    Plotly.newPlot(                        \"ce0b58ee-911c-467c-9ab3-d64620e3b9e5\",                        [{\"colorscale\":[[0.0,\"#440154\"],[0.1111111111111111,\"#482878\"],[0.2222222222222222,\"#3e4989\"],[0.3333333333333333,\"#31688e\"],[0.4444444444444444,\"#26828e\"],[0.5555555555555556,\"#1f9e89\"],[0.6666666666666666,\"#35b779\"],[0.7777777777777778,\"#6ece58\"],[0.8888888888888888,\"#b5de2b\"],[1.0,\"#fde725\"]],\"opacity\":1.0,\"reversescale\":false,\"x\":[\"Age\",\"DailyRate\",\"DistanceFromHome\",\"Education\",\"EmployeeNumber\",\"EnvironmentSatisfaction\",\"HourlyRate\",\"JobInvolvement\",\"JobLevel\",\"JobSatisfaction\",\"MonthlyIncome\",\"MonthlyRate\",\"NumCompaniesWorked\",\"PercentSalaryHike\",\"PerformanceRating\",\"RelationshipSatisfaction\",\"StockOptionLevel\",\"TotalWorkingYears\",\"TrainingTimesLastYear\",\"WorkLifeBalance\",\"YearsAtCompany\",\"YearsInCurrentRole\",\"YearsSinceLastPromotion\",\"YearsWithCurrManager\"],\"y\":[\"Age\",\"DailyRate\",\"DistanceFromHome\",\"Education\",\"EmployeeNumber\",\"EnvironmentSatisfaction\",\"HourlyRate\",\"JobInvolvement\",\"JobLevel\",\"JobSatisfaction\",\"MonthlyIncome\",\"MonthlyRate\",\"NumCompaniesWorked\",\"PercentSalaryHike\",\"PerformanceRating\",\"RelationshipSatisfaction\",\"StockOptionLevel\",\"TotalWorkingYears\",\"TrainingTimesLastYear\",\"WorkLifeBalance\",\"YearsAtCompany\",\"YearsInCurrentRole\",\"YearsSinceLastPromotion\",\"YearsWithCurrManager\"],\"z\":[[1.0,0.010660942645538433,-0.00168612014808715,0.2080337310142398,-0.0101454670768599,0.010146427861437268,0.024286542550967197,0.029819958629590578,0.5096042284323842,-0.00489187714868713,0.4978545669265801,0.02805116713392273,0.2996347579836926,0.0036335849148618872,0.0019038955127587383,0.053534719671229365,0.037509712424777526,0.6803805357911985,-0.01962081894269849,-0.021490027957098715,0.3113087697450989,0.21290105556556793,0.2165133678516537,0.20208860237515264],[0.010660942645538433,1.0,-0.00498533735255263,-0.01680643320915763,-0.05099043365447757,0.018354854300385557,0.023381421528320526,0.04613487399781112,0.0029663348551116197,0.030571007837143983,0.007707058872006053,-0.03218160152258194,0.0381534342794098,0.022703677496334968,0.00047329632718855213,0.007846030957248387,0.04214279637720667,0.014514738706320902,0.002452542712083144,-0.03784805100578179,-0.03405476756854742,0.009932014960094215,-0.033228984787772024,-0.026363178228837676],[-0.00168612014808715,-0.00498533735255263,1.0,0.021041825624123392,0.032916407199243845,-0.016075326996493524,0.03113058561176572,0.008783279886444255,0.005302730554496216,-0.0036688391677205793,-0.017014444745275862,0.02747286354888413,-0.029250804197293017,0.040235377459193075,0.027109618481976,0.006557474646578779,0.04487199885318152,0.004628425863783857,-0.036942234339915794,-0.02655600410656903,0.009507719899011289,0.018844999108945746,0.010028835943115395,0.014406048430630005],[0.2080337310142398,-0.01680643320915763,0.021041825624123392,1.0,0.042070093029327675,-0.027128313256511792,0.01677482888096076,0.042437634318607954,0.10158888624850043,-0.011296116736574002,0.09496067704188883,-0.026084197160047493,0.12631656017668452,-0.011110940860654192,-0.024538791164833557,-0.009118376696381533,0.018422220204016834,0.1482796965388733,-0.025100241137933348,0.00981918930978191,0.06911369603133866,0.06023555412069576,0.054254333591320224,0.06906537825528458],[-0.0101454670768599,-0.05099043365447757,0.032916407199243845,0.042070093029327675,1.0,0.017620802485586586,0.035179212418708077,-0.0068879229870375,-0.018519193974227376,-0.04624673493941775,-0.01482851587378469,0.012648229168461627,-0.0012510320398018396,-0.012943995546151714,-0.02035882514695762,-0.06986141146763755,0.06222669251362305,-0.014365198461301121,0.023603169591926734,0.010308641437965905,-0.011240463708114047,-0.008416311998425954,-0.009019064206633414,-0.009196645292770315],[0.010146427861437268,0.018354854300385557,-0.016075326996493524,-0.027128313256511792,0.017620802485586586,1.0,-0.04985695620300066,-0.008277598171759099,0.001211699448913883,-0.006784352599075007,-0.0062590877547801654,0.037599622865715374,0.012594323218943297,-0.031701195241792046,-0.02954795229768088,0.007665383541074558,0.0034321577550574162,-0.002693070388534207,-0.01935930834713247,0.027627295460115428,0.0014575491911164862,0.01800746014287853,0.016193605568453326,-0.004998722628107581],[0.024286542550967197,0.023381421528320526,0.03113058561176572,0.01677482888096076,0.035179212418708077,-0.04985695620300066,1.0,0.04286064097152976,-0.027853486405547218,-0.07133462437378787,-0.015794304380892982,-0.015296749550649661,0.02215688339019683,-0.00906198625374016,-0.002171697427810162,0.0013304527859508606,0.050263399065119486,-0.002333681823322269,-0.008547685209270649,-0.004607233750264554,-0.019581616209121275,-0.02410622020878498,-0.02671558606433524,-0.020123200184066006],[0.029819958629590578,0.04613487399781112,0.008783279886444255,0.042437634318607954,-0.0068879229870375,-0.008277598171759099,0.04286064097152976,1.0,-0.012629882671190631,-0.021475910335306454,-0.015271490778732832,-0.016322079053317298,0.015012413243110999,-0.017204572244480378,-0.029071333439069817,0.034296820611197744,0.021522640378023858,-0.0055331820574074635,-0.015337825759429116,-0.014616593162761865,-0.021355426979629725,0.00871696349761169,-0.024184292365179074,0.025975807949088936],[0.5096042284323842,0.0029663348551116197,0.005302730554496216,0.10158888624850043,-0.018519193974227376,0.001211699448913883,-0.027853486405547218,-0.012629882671190631,1.0,-0.0019437080267456581,0.9502999134798473,0.03956295104568388,0.1425011238104873,-0.03473049227941817,-0.021222082108857152,0.021641510532591595,0.013983910528615457,0.7822078045362748,-0.018190550193549416,0.037817745596666404,0.5347386873756308,0.3894467328766705,0.3538853469641021,0.37528060776572636],[-0.00489187714868713,0.030571007837143983,-0.0036688391677205793,-0.011296116736574002,-0.04624673493941775,-0.006784352599075007,-0.07133462437378787,-0.021475910335306454,-0.0019437080267456581,1.0,-0.00715674235591272,0.0006439169427037768,-0.05569942601274605,0.020002039364081927,0.0022971970637806114,-0.012453593161926702,0.010690226120755746,-0.020185072685016788,-0.005779334958609115,-0.01945871021297396,-0.0038026279482880534,-0.002304785229830135,-0.01821356781019079,-0.027656213884289974],[0.4978545669265801,0.007707058872006053,-0.017014444745275862,0.09496067704188883,-0.01482851587378469,-0.0062590877547801654,-0.015794304380892982,-0.015271490778732832,0.9502999134798473,-0.00715674235591272,1.0,0.034813626134121846,0.14951521598969805,-0.02726858644031447,-0.01712013823739077,0.025873436137557656,0.005407676696812238,0.7728932462543574,-0.02173627682389331,0.030683081556940557,0.5142848257331957,0.3638176669287084,0.3449776381654271,0.34407888325872127],[0.02805116713392273,-0.03218160152258194,0.02747286354888413,-0.026084197160047493,0.012648229168461627,0.037599622865715374,-0.015296749550649661,-0.016322079053317298,0.03956295104568388,0.0006439169427037768,0.034813626134121846,1.0,0.017521353415571563,-0.006429345946711407,-0.00981142848936084,-0.004085329337519686,-0.034322830206660805,0.026442471176015385,0.0014668806322858448,0.007963157516977033,-0.023655106706177275,-0.012814874370471728,0.001566799514676175,-0.036745905336769386],[0.2996347579836926,0.0381534342794098,-0.029250804197293017,0.12631656017668452,-0.0012510320398018396,0.012594323218943297,0.02215688339019683,0.015012413243110999,0.1425011238104873,-0.05569942601274605,0.14951521598969805,0.017521353415571563,1.0,-0.010238309359925521,-0.014094872753535133,0.05273304856488617,0.030075475096897484,0.23763858978479552,-0.06605407172783646,-0.008365684790058631,-0.11842134024259104,-0.0907539337008081,-0.03681389238350808,-0.11031915543773241],[0.0036335849148618872,0.022703677496334968,0.040235377459193075,-0.011110940860654192,-0.012943995546151714,-0.031701195241792046,-0.00906198625374016,-0.017204572244480378,-0.03473049227941817,0.020002039364081927,-0.02726858644031447,-0.006429345946711407,-0.010238309359925521,1.0,0.7735499964012664,-0.04049008105707734,0.0075277478205202026,-0.020608487617691264,-0.005221012351721004,-0.0032796360093680704,-0.03599126243195373,-0.0015200265442777774,-0.022154312598866126,-0.01198524847236139],[0.0019038955127587383,0.00047329632718855213,0.027109618481976,-0.024538791164833557,-0.02035882514695762,-0.02954795229768088,-0.002171697427810162,-0.029071333439069817,-0.021222082108857152,0.0022971970637806114,-0.01712013823739077,-0.00981142848936084,-0.014094872753535133,0.7735499964012664,1.0,-0.031351455442454886,0.003506471614809783,0.0067436679059531685,-0.015578881739137565,0.002572361317682639,0.0034351261159238713,0.034986260407194936,0.017896066144799785,0.022827168908479807],[0.053534719671229365,0.007846030957248387,0.006557474646578779,-0.009118376696381533,-0.06986141146763755,0.007665383541074558,0.0013304527859508606,0.034296820611197744,0.021641510532591595,-0.012453593161926702,0.025873436137557656,-0.004085329337519686,0.05273304856488617,-0.04049008105707734,-0.031351455442454886,1.0,-0.045952490716561906,0.02405429182134145,0.002496526392116996,0.01960440570396871,0.019366786877455463,-0.015122914881937748,0.033492502069354176,-0.0008674968446256695],[0.037509712424777526,0.04214279637720667,0.04487199885318152,0.018422220204016834,0.06222669251362305,0.0034321577550574162,0.050263399065119486,0.021522640378023858,0.013983910528615457,0.010690226120755746,0.005407676696812238,-0.034322830206660805,0.030075475096897484,0.0075277478205202026,0.003506471614809783,-0.045952490716561906,1.0,0.010135969318901629,0.011274069611249207,0.004128730002871338,0.015058008028094509,0.050817872753931646,0.01435218486435548,0.02469822656303012],[0.6803805357911985,0.014514738706320902,0.004628425863783857,0.1482796965388733,-0.014365198461301121,-0.002693070388534207,-0.002333681823322269,-0.0055331820574074635,0.7822078045362748,-0.020185072685016788,0.7728932462543574,0.026442471176015385,0.23763858978479552,-0.020608487617691264,0.0067436679059531685,0.02405429182134145,0.010135969318901629,1.0,-0.03566157127961907,0.0010076456218964924,0.6281331552682468,0.46036463801180993,0.4048577585025587,0.45918839708314385],[-0.01962081894269849,0.002452542712083144,-0.036942234339915794,-0.025100241137933348,0.023603169591926734,-0.01935930834713247,-0.008547685209270649,-0.015337825759429116,-0.018190550193549416,-0.005779334958609115,-0.02173627682389331,0.0014668806322858448,-0.06605407172783646,-0.005221012351721004,-0.015578881739137565,0.002496526392116996,0.011274069611249207,-0.03566157127961907,1.0,0.02807220660362872,0.003568665678427449,-0.0057375043379568925,-0.0020665360380059438,-0.004095526021226202],[-0.021490027957098715,-0.03784805100578179,-0.02655600410656903,0.00981918930978191,0.010308641437965905,0.027627295460115428,-0.004607233750264554,-0.014616593162761865,0.037817745596666404,-0.01945871021297396,0.030683081556940557,0.007963157516977033,-0.008365684790058631,-0.0032796360093680704,0.002572361317682639,0.01960440570396871,0.004128730002871338,0.0010076456218964924,0.02807220660362872,1.0,0.012089185354581315,0.04985649792220436,0.008941249141234323,0.002759440242340428],[0.3113087697450989,-0.03405476756854742,0.009507719899011289,0.06911369603133866,-0.011240463708114047,0.0014575491911164862,-0.019581616209121275,-0.021355426979629725,0.5347386873756308,-0.0038026279482880534,0.5142848257331957,-0.023655106706177275,-0.11842134024259104,-0.03599126243195373,0.0034351261159238713,0.019366786877455463,0.015058008028094509,0.6281331552682468,0.003568665678427449,0.012089185354581315,1.0,0.7587537366134619,0.6184088652176047,0.7692124251007031],[0.21290105556556793,0.009932014960094215,0.018844999108945746,0.06023555412069576,-0.008416311998425954,0.01800746014287853,-0.02410622020878498,0.00871696349761169,0.3894467328766705,-0.002304785229830135,0.3638176669287084,-0.012814874370471728,-0.0907539337008081,-0.0015200265442777774,0.034986260407194936,-0.015122914881937748,0.050817872753931646,0.46036463801180993,-0.0057375043379568925,0.04985649792220436,0.7587537366134619,1.0,0.5480562476995187,0.7143647616385931],[0.2165133678516537,-0.033228984787772024,0.010028835943115395,0.054254333591320224,-0.009019064206633414,0.016193605568453326,-0.02671558606433524,-0.024184292365179074,0.3538853469641021,-0.01821356781019079,0.3449776381654271,0.001566799514676175,-0.03681389238350808,-0.022154312598866126,0.017896066144799785,0.033492502069354176,0.01435218486435548,0.4048577585025587,-0.0020665360380059438,0.008941249141234323,0.6184088652176047,0.5480562476995187,1.0,0.5102236357788085],[0.20208860237515264,-0.026363178228837676,0.014406048430630005,0.06906537825528458,-0.009196645292770315,-0.004998722628107581,-0.020123200184066006,0.025975807949088936,0.37528060776572636,-0.027656213884289974,0.34407888325872127,-0.036745905336769386,-0.11031915543773241,-0.01198524847236139,0.022827168908479807,-0.0008674968446256695,0.02469822656303012,0.45918839708314385,-0.004095526021226202,0.002759440242340428,0.7692124251007031,0.7143647616385931,0.5102236357788085,1.0]],\"type\":\"heatmap\"}],                        {\"height\":700,\"template\":{\"data\":{\"barpolar\":[{\"marker\":{\"line\":{\"color\":\"#E5ECF6\",\"width\":0.5},\"pattern\":{\"fillmode\":\"overlay\",\"size\":10,\"solidity\":0.2}},\"type\":\"barpolar\"}],\"bar\":[{\"error_x\":{\"color\":\"#2a3f5f\"},\"error_y\":{\"color\":\"#2a3f5f\"},\"marker\":{\"line\":{\"color\":\"#E5ECF6\",\"width\":0.5},\"pattern\":{\"fillmode\":\"overlay\",\"size\":10,\"solidity\":0.2}},\"type\":\"bar\"}],\"carpet\":[{\"aaxis\":{\"endlinecolor\":\"#2a3f5f\",\"gridcolor\":\"white\",\"linecolor\":\"white\",\"minorgridcolor\":\"white\",\"startlinecolor\":\"#2a3f5f\"},\"baxis\":{\"endlinecolor\":\"#2a3f5f\",\"gridcolor\":\"white\",\"linecolor\":\"white\",\"minorgridcolor\":\"white\",\"startlinecolor\":\"#2a3f5f\"},\"type\":\"carpet\"}],\"choropleth\":[{\"colorbar\":{\"outlinewidth\":0,\"ticks\":\"\"},\"type\":\"choropleth\"}],\"contourcarpet\":[{\"colorbar\":{\"outlinewidth\":0,\"ticks\":\"\"},\"type\":\"contourcarpet\"}],\"contour\":[{\"colorbar\":{\"outlinewidth\":0,\"ticks\":\"\"},\"colorscale\":[[0.0,\"#0d0887\"],[0.1111111111111111,\"#46039f\"],[0.2222222222222222,\"#7201a8\"],[0.3333333333333333,\"#9c179e\"],[0.4444444444444444,\"#bd3786\"],[0.5555555555555556,\"#d8576b\"],[0.6666666666666666,\"#ed7953\"],[0.7777777777777778,\"#fb9f3a\"],[0.8888888888888888,\"#fdca26\"],[1.0,\"#f0f921\"]],\"type\":\"contour\"}],\"heatmapgl\":[{\"colorbar\":{\"outlinewidth\":0,\"ticks\":\"\"},\"colorscale\":[[0.0,\"#0d0887\"],[0.1111111111111111,\"#46039f\"],[0.2222222222222222,\"#7201a8\"],[0.3333333333333333,\"#9c179e\"],[0.4444444444444444,\"#bd3786\"],[0.5555555555555556,\"#d8576b\"],[0.6666666666666666,\"#ed7953\"],[0.7777777777777778,\"#fb9f3a\"],[0.8888888888888888,\"#fdca26\"],[1.0,\"#f0f921\"]],\"type\":\"heatmapgl\"}],\"heatmap\":[{\"colorbar\":{\"outlinewidth\":0,\"ticks\":\"\"},\"colorscale\":[[0.0,\"#0d0887\"],[0.1111111111111111,\"#46039f\"],[0.2222222222222222,\"#7201a8\"],[0.3333333333333333,\"#9c179e\"],[0.4444444444444444,\"#bd3786\"],[0.5555555555555556,\"#d8576b\"],[0.6666666666666666,\"#ed7953\"],[0.7777777777777778,\"#fb9f3a\"],[0.8888888888888888,\"#fdca26\"],[1.0,\"#f0f921\"]],\"type\":\"heatmap\"}],\"histogram2dcontour\":[{\"colorbar\":{\"outlinewidth\":0,\"ticks\":\"\"},\"colorscale\":[[0.0,\"#0d0887\"],[0.1111111111111111,\"#46039f\"],[0.2222222222222222,\"#7201a8\"],[0.3333333333333333,\"#9c179e\"],[0.4444444444444444,\"#bd3786\"],[0.5555555555555556,\"#d8576b\"],[0.6666666666666666,\"#ed7953\"],[0.7777777777777778,\"#fb9f3a\"],[0.8888888888888888,\"#fdca26\"],[1.0,\"#f0f921\"]],\"type\":\"histogram2dcontour\"}],\"histogram2d\":[{\"colorbar\":{\"outlinewidth\":0,\"ticks\":\"\"},\"colorscale\":[[0.0,\"#0d0887\"],[0.1111111111111111,\"#46039f\"],[0.2222222222222222,\"#7201a8\"],[0.3333333333333333,\"#9c179e\"],[0.4444444444444444,\"#bd3786\"],[0.5555555555555556,\"#d8576b\"],[0.6666666666666666,\"#ed7953\"],[0.7777777777777778,\"#fb9f3a\"],[0.8888888888888888,\"#fdca26\"],[1.0,\"#f0f921\"]],\"type\":\"histogram2d\"}],\"histogram\":[{\"marker\":{\"pattern\":{\"fillmode\":\"overlay\",\"size\":10,\"solidity\":0.2}},\"type\":\"histogram\"}],\"mesh3d\":[{\"colorbar\":{\"outlinewidth\":0,\"ticks\":\"\"},\"type\":\"mesh3d\"}],\"parcoords\":[{\"line\":{\"colorbar\":{\"outlinewidth\":0,\"ticks\":\"\"}},\"type\":\"parcoords\"}],\"pie\":[{\"automargin\":true,\"type\":\"pie\"}],\"scatter3d\":[{\"line\":{\"colorbar\":{\"outlinewidth\":0,\"ticks\":\"\"}},\"marker\":{\"colorbar\":{\"outlinewidth\":0,\"ticks\":\"\"}},\"type\":\"scatter3d\"}],\"scattercarpet\":[{\"marker\":{\"colorbar\":{\"outlinewidth\":0,\"ticks\":\"\"}},\"type\":\"scattercarpet\"}],\"scattergeo\":[{\"marker\":{\"colorbar\":{\"outlinewidth\":0,\"ticks\":\"\"}},\"type\":\"scattergeo\"}],\"scattergl\":[{\"marker\":{\"colorbar\":{\"outlinewidth\":0,\"ticks\":\"\"}},\"type\":\"scattergl\"}],\"scattermapbox\":[{\"marker\":{\"colorbar\":{\"outlinewidth\":0,\"ticks\":\"\"}},\"type\":\"scattermapbox\"}],\"scatterpolargl\":[{\"marker\":{\"colorbar\":{\"outlinewidth\":0,\"ticks\":\"\"}},\"type\":\"scatterpolargl\"}],\"scatterpolar\":[{\"marker\":{\"colorbar\":{\"outlinewidth\":0,\"ticks\":\"\"}},\"type\":\"scatterpolar\"}],\"scatter\":[{\"fillpattern\":{\"fillmode\":\"overlay\",\"size\":10,\"solidity\":0.2},\"type\":\"scatter\"}],\"scatterternary\":[{\"marker\":{\"colorbar\":{\"outlinewidth\":0,\"ticks\":\"\"}},\"type\":\"scatterternary\"}],\"surface\":[{\"colorbar\":{\"outlinewidth\":0,\"ticks\":\"\"},\"colorscale\":[[0.0,\"#0d0887\"],[0.1111111111111111,\"#46039f\"],[0.2222222222222222,\"#7201a8\"],[0.3333333333333333,\"#9c179e\"],[0.4444444444444444,\"#bd3786\"],[0.5555555555555556,\"#d8576b\"],[0.6666666666666666,\"#ed7953\"],[0.7777777777777778,\"#fb9f3a\"],[0.8888888888888888,\"#fdca26\"],[1.0,\"#f0f921\"]],\"type\":\"surface\"}],\"table\":[{\"cells\":{\"fill\":{\"color\":\"#EBF0F8\"},\"line\":{\"color\":\"white\"}},\"header\":{\"fill\":{\"color\":\"#C8D4E3\"},\"line\":{\"color\":\"white\"}},\"type\":\"table\"}]},\"layout\":{\"annotationdefaults\":{\"arrowcolor\":\"#2a3f5f\",\"arrowhead\":0,\"arrowwidth\":1},\"autotypenumbers\":\"strict\",\"coloraxis\":{\"colorbar\":{\"outlinewidth\":0,\"ticks\":\"\"}},\"colorscale\":{\"diverging\":[[0,\"#8e0152\"],[0.1,\"#c51b7d\"],[0.2,\"#de77ae\"],[0.3,\"#f1b6da\"],[0.4,\"#fde0ef\"],[0.5,\"#f7f7f7\"],[0.6,\"#e6f5d0\"],[0.7,\"#b8e186\"],[0.8,\"#7fbc41\"],[0.9,\"#4d9221\"],[1,\"#276419\"]],\"sequential\":[[0.0,\"#0d0887\"],[0.1111111111111111,\"#46039f\"],[0.2222222222222222,\"#7201a8\"],[0.3333333333333333,\"#9c179e\"],[0.4444444444444444,\"#bd3786\"],[0.5555555555555556,\"#d8576b\"],[0.6666666666666666,\"#ed7953\"],[0.7777777777777778,\"#fb9f3a\"],[0.8888888888888888,\"#fdca26\"],[1.0,\"#f0f921\"]],\"sequentialminus\":[[0.0,\"#0d0887\"],[0.1111111111111111,\"#46039f\"],[0.2222222222222222,\"#7201a8\"],[0.3333333333333333,\"#9c179e\"],[0.4444444444444444,\"#bd3786\"],[0.5555555555555556,\"#d8576b\"],[0.6666666666666666,\"#ed7953\"],[0.7777777777777778,\"#fb9f3a\"],[0.8888888888888888,\"#fdca26\"],[1.0,\"#f0f921\"]]},\"colorway\":[\"#636efa\",\"#EF553B\",\"#00cc96\",\"#ab63fa\",\"#FFA15A\",\"#19d3f3\",\"#FF6692\",\"#B6E880\",\"#FF97FF\",\"#FECB52\"],\"font\":{\"color\":\"#2a3f5f\"},\"geo\":{\"bgcolor\":\"white\",\"lakecolor\":\"white\",\"landcolor\":\"#E5ECF6\",\"showlakes\":true,\"showland\":true,\"subunitcolor\":\"white\"},\"hoverlabel\":{\"align\":\"left\"},\"hovermode\":\"closest\",\"mapbox\":{\"style\":\"light\"},\"paper_bgcolor\":\"white\",\"plot_bgcolor\":\"#E5ECF6\",\"polar\":{\"angularaxis\":{\"gridcolor\":\"white\",\"linecolor\":\"white\",\"ticks\":\"\"},\"bgcolor\":\"#E5ECF6\",\"radialaxis\":{\"gridcolor\":\"white\",\"linecolor\":\"white\",\"ticks\":\"\"}},\"scene\":{\"xaxis\":{\"backgroundcolor\":\"#E5ECF6\",\"gridcolor\":\"white\",\"gridwidth\":2,\"linecolor\":\"white\",\"showbackground\":true,\"ticks\":\"\",\"zerolinecolor\":\"white\"},\"yaxis\":{\"backgroundcolor\":\"#E5ECF6\",\"gridcolor\":\"white\",\"gridwidth\":2,\"linecolor\":\"white\",\"showbackground\":true,\"ticks\":\"\",\"zerolinecolor\":\"white\"},\"zaxis\":{\"backgroundcolor\":\"#E5ECF6\",\"gridcolor\":\"white\",\"gridwidth\":2,\"linecolor\":\"white\",\"showbackground\":true,\"ticks\":\"\",\"zerolinecolor\":\"white\"}},\"shapedefaults\":{\"line\":{\"color\":\"#2a3f5f\"}},\"ternary\":{\"aaxis\":{\"gridcolor\":\"white\",\"linecolor\":\"white\",\"ticks\":\"\"},\"baxis\":{\"gridcolor\":\"white\",\"linecolor\":\"white\",\"ticks\":\"\"},\"bgcolor\":\"#E5ECF6\",\"caxis\":{\"gridcolor\":\"white\",\"linecolor\":\"white\",\"ticks\":\"\"}},\"title\":{\"x\":0.05},\"xaxis\":{\"automargin\":true,\"gridcolor\":\"white\",\"linecolor\":\"white\",\"ticks\":\"\",\"title\":{\"standoff\":15},\"zerolinecolor\":\"white\",\"zerolinewidth\":2},\"yaxis\":{\"automargin\":true,\"gridcolor\":\"white\",\"linecolor\":\"white\",\"ticks\":\"\",\"title\":{\"standoff\":15},\"zerolinecolor\":\"white\",\"zerolinewidth\":2}}},\"title\":{\"text\":\"Pearson Correlation of numerical features\"},\"width\":900,\"xaxis\":{\"nticks\":36,\"ticks\":\"\"},\"yaxis\":{\"ticks\":\"\"}},                        {\"responsive\": true}                    ).then(function(){\n",
       "                            \n",
       "var gd = document.getElementById('ce0b58ee-911c-467c-9ab3-d64620e3b9e5');\n",
       "var x = new MutationObserver(function (mutations, observer) {{\n",
       "        var display = window.getComputedStyle(gd).display;\n",
       "        if (!display || display === 'none') {{\n",
       "            console.log([gd, 'removed!']);\n",
       "            Plotly.purge(gd);\n",
       "            observer.disconnect();\n",
       "        }}\n",
       "}});\n",
       "\n",
       "// Listen for the removal of the full notebook cells\n",
       "var notebookContainer = gd.closest('#notebook-container');\n",
       "if (notebookContainer) {{\n",
       "    x.observe(notebookContainer, {childList: true});\n",
       "}}\n",
       "\n",
       "// Listen for the clearing of the current output cell\n",
       "var outputEl = gd.closest('.output');\n",
       "if (outputEl) {{\n",
       "    x.observe(outputEl, {childList: true});\n",
       "}}\n",
       "\n",
       "                        })                };                });            </script>        </div>"
      ]
     },
     "metadata": {},
     "output_type": "display_data"
    }
   ],
   "source": [
    "# creating a list of only numerical values\n",
    "numerical = [u'Age', u'DailyRate', u'DistanceFromHome', \n",
    "             u'Education', u'EmployeeNumber', u'EnvironmentSatisfaction',\n",
    "             u'HourlyRate', u'JobInvolvement', u'JobLevel', u'JobSatisfaction',\n",
    "             u'MonthlyIncome', u'MonthlyRate', u'NumCompaniesWorked',\n",
    "             u'PercentSalaryHike', u'PerformanceRating', u'RelationshipSatisfaction',\n",
    "             u'StockOptionLevel', u'TotalWorkingYears',\n",
    "             u'TrainingTimesLastYear', u'WorkLifeBalance', u'YearsAtCompany',\n",
    "             u'YearsInCurrentRole', u'YearsSinceLastPromotion',u'YearsWithCurrManager']\n",
    "data = [\n",
    "    go.Heatmap(\n",
    "        z= df[numerical].astype(float).corr().values, # Generating the Pearson correlation\n",
    "        x=df[numerical].columns.values,\n",
    "        y=df[numerical].columns.values,\n",
    "        colorscale='Viridis',\n",
    "        reversescale = False,\n",
    "#         text = True ,\n",
    "        opacity = 1.0\n",
    "        \n",
    "    )\n",
    "]\n",
    "\n",
    "\n",
    "layout = go.Layout(\n",
    "    title='Pearson Correlation of numerical features',\n",
    "    xaxis = dict(ticks='', nticks=36),\n",
    "    yaxis = dict(ticks='' ),\n",
    "    width = 900, height = 700,\n",
    "    \n",
    ")\n",
    "\n",
    "\n",
    "fig = go.Figure(data=data, layout=layout)\n",
    "py.iplot(fig, filename='labelled-heatmap')"
   ]
  },
  {
   "cell_type": "code",
   "execution_count": 28,
   "id": "344d98fe",
   "metadata": {},
   "outputs": [],
   "source": [
    "numerical = [u'Age', u'DailyRate',  u'JobSatisfaction',\n",
    "       u'MonthlyIncome', u'PerformanceRating',\n",
    "        u'WorkLifeBalance', u'YearsAtCompany', u'Attrition_numerical']\n",
    "\n"
   ]
  },
  {
   "cell_type": "markdown",
   "id": "c3799c94",
   "metadata": {},
   "source": [
    "## Feature Engineering"
   ]
  },
  {
   "cell_type": "code",
   "execution_count": 31,
   "id": "9d93c891",
   "metadata": {},
   "outputs": [
    {
     "data": {
      "text/plain": [
       "Index(['Age', 'Attrition', 'BusinessTravel', 'DailyRate', 'Department',\n",
       "       'DistanceFromHome', 'Education', 'EducationField', 'EmployeeCount',\n",
       "       'EmployeeNumber', 'EnvironmentSatisfaction', 'Gender', 'HourlyRate',\n",
       "       'JobInvolvement', 'JobLevel', 'JobRole', 'JobSatisfaction',\n",
       "       'MaritalStatus', 'MonthlyIncome', 'MonthlyRate', 'NumCompaniesWorked',\n",
       "       'Over18', 'OverTime', 'PercentSalaryHike', 'PerformanceRating',\n",
       "       'RelationshipSatisfaction', 'StandardHours', 'StockOptionLevel',\n",
       "       'TotalWorkingYears', 'TrainingTimesLastYear', 'WorkLifeBalance',\n",
       "       'YearsAtCompany', 'YearsInCurrentRole', 'YearsSinceLastPromotion',\n",
       "       'YearsWithCurrManager', 'Attrition_numerical'],\n",
       "      dtype='object')"
      ]
     },
     "execution_count": 31,
     "metadata": {},
     "output_type": "execute_result"
    }
   ],
   "source": [
    "df.columns"
   ]
  },
  {
   "cell_type": "code",
   "execution_count": 35,
   "id": "452f079e",
   "metadata": {},
   "outputs": [],
   "source": [
    "# Drop the Attrition_numerical column from attrition dataset first - Don't want to include that\n",
    "attrition = df.drop(['Attrition_numerical'], axis=1)\n",
    "\n",
    "\n",
    "categorical = []\n",
    "for col in attrition.columns:\n",
    "    if attrition[col].dtype == 'object':\n",
    "        categorical.append(col)\n",
    "\n",
    "\n",
    "# Store the numerical columns in a list numerical\n",
    "numerical = attrition.columns.difference(categorical)"
   ]
  },
  {
   "cell_type": "code",
   "execution_count": 36,
   "id": "7ea709a4",
   "metadata": {},
   "outputs": [],
   "source": [
    "# Store the categorical data in a dataframe called attrition_cat\n",
    "attrition_cat = attrition[categorical]\n",
    "attrition_cat = attrition.drop(['Attrition'], axis=1) # Dropping the target column"
   ]
  },
  {
   "cell_type": "code",
   "execution_count": 37,
   "id": "37c4091e",
   "metadata": {},
   "outputs": [
    {
     "data": {
      "text/html": [
       "<div>\n",
       "<style scoped>\n",
       "    .dataframe tbody tr th:only-of-type {\n",
       "        vertical-align: middle;\n",
       "    }\n",
       "\n",
       "    .dataframe tbody tr th {\n",
       "        vertical-align: top;\n",
       "    }\n",
       "\n",
       "    .dataframe thead th {\n",
       "        text-align: right;\n",
       "    }\n",
       "</style>\n",
       "<table border=\"1\" class=\"dataframe\">\n",
       "  <thead>\n",
       "    <tr style=\"text-align: right;\">\n",
       "      <th></th>\n",
       "      <th>Age</th>\n",
       "      <th>DailyRate</th>\n",
       "      <th>DistanceFromHome</th>\n",
       "      <th>Education</th>\n",
       "      <th>EmployeeCount</th>\n",
       "      <th>EmployeeNumber</th>\n",
       "      <th>EnvironmentSatisfaction</th>\n",
       "      <th>HourlyRate</th>\n",
       "      <th>JobInvolvement</th>\n",
       "      <th>JobLevel</th>\n",
       "      <th>...</th>\n",
       "      <th>JobRole_Research Director</th>\n",
       "      <th>JobRole_Research Scientist</th>\n",
       "      <th>JobRole_Sales Executive</th>\n",
       "      <th>JobRole_Sales Representative</th>\n",
       "      <th>MaritalStatus_Divorced</th>\n",
       "      <th>MaritalStatus_Married</th>\n",
       "      <th>MaritalStatus_Single</th>\n",
       "      <th>Over18_Y</th>\n",
       "      <th>OverTime_No</th>\n",
       "      <th>OverTime_Yes</th>\n",
       "    </tr>\n",
       "  </thead>\n",
       "  <tbody>\n",
       "    <tr>\n",
       "      <th>0</th>\n",
       "      <td>41</td>\n",
       "      <td>1102</td>\n",
       "      <td>1</td>\n",
       "      <td>2</td>\n",
       "      <td>1</td>\n",
       "      <td>1</td>\n",
       "      <td>2</td>\n",
       "      <td>94</td>\n",
       "      <td>3</td>\n",
       "      <td>2</td>\n",
       "      <td>...</td>\n",
       "      <td>False</td>\n",
       "      <td>False</td>\n",
       "      <td>True</td>\n",
       "      <td>False</td>\n",
       "      <td>False</td>\n",
       "      <td>False</td>\n",
       "      <td>True</td>\n",
       "      <td>True</td>\n",
       "      <td>False</td>\n",
       "      <td>True</td>\n",
       "    </tr>\n",
       "    <tr>\n",
       "      <th>1</th>\n",
       "      <td>49</td>\n",
       "      <td>279</td>\n",
       "      <td>8</td>\n",
       "      <td>1</td>\n",
       "      <td>1</td>\n",
       "      <td>2</td>\n",
       "      <td>3</td>\n",
       "      <td>61</td>\n",
       "      <td>2</td>\n",
       "      <td>2</td>\n",
       "      <td>...</td>\n",
       "      <td>False</td>\n",
       "      <td>True</td>\n",
       "      <td>False</td>\n",
       "      <td>False</td>\n",
       "      <td>False</td>\n",
       "      <td>True</td>\n",
       "      <td>False</td>\n",
       "      <td>True</td>\n",
       "      <td>True</td>\n",
       "      <td>False</td>\n",
       "    </tr>\n",
       "    <tr>\n",
       "      <th>2</th>\n",
       "      <td>37</td>\n",
       "      <td>1373</td>\n",
       "      <td>2</td>\n",
       "      <td>2</td>\n",
       "      <td>1</td>\n",
       "      <td>4</td>\n",
       "      <td>4</td>\n",
       "      <td>92</td>\n",
       "      <td>2</td>\n",
       "      <td>1</td>\n",
       "      <td>...</td>\n",
       "      <td>False</td>\n",
       "      <td>False</td>\n",
       "      <td>False</td>\n",
       "      <td>False</td>\n",
       "      <td>False</td>\n",
       "      <td>False</td>\n",
       "      <td>True</td>\n",
       "      <td>True</td>\n",
       "      <td>False</td>\n",
       "      <td>True</td>\n",
       "    </tr>\n",
       "  </tbody>\n",
       "</table>\n",
       "<p>3 rows × 55 columns</p>\n",
       "</div>"
      ],
      "text/plain": [
       "   Age  DailyRate  DistanceFromHome  Education  EmployeeCount  EmployeeNumber  \\\n",
       "0   41       1102                 1          2              1               1   \n",
       "1   49        279                 8          1              1               2   \n",
       "2   37       1373                 2          2              1               4   \n",
       "\n",
       "   EnvironmentSatisfaction  HourlyRate  JobInvolvement  JobLevel  ...  \\\n",
       "0                        2          94               3         2  ...   \n",
       "1                        3          61               2         2  ...   \n",
       "2                        4          92               2         1  ...   \n",
       "\n",
       "   JobRole_Research Director  JobRole_Research Scientist  \\\n",
       "0                      False                       False   \n",
       "1                      False                        True   \n",
       "2                      False                       False   \n",
       "\n",
       "   JobRole_Sales Executive  JobRole_Sales Representative  \\\n",
       "0                     True                         False   \n",
       "1                    False                         False   \n",
       "2                    False                         False   \n",
       "\n",
       "   MaritalStatus_Divorced  MaritalStatus_Married  MaritalStatus_Single  \\\n",
       "0                   False                  False                  True   \n",
       "1                   False                   True                 False   \n",
       "2                   False                  False                  True   \n",
       "\n",
       "   Over18_Y  OverTime_No  OverTime_Yes  \n",
       "0      True        False          True  \n",
       "1      True         True         False  \n",
       "2      True        False          True  \n",
       "\n",
       "[3 rows x 55 columns]"
      ]
     },
     "execution_count": 37,
     "metadata": {},
     "output_type": "execute_result"
    }
   ],
   "source": [
    "attrition_cat = pd.get_dummies(attrition_cat)\n",
    "attrition_cat.head(3)"
   ]
  },
  {
   "cell_type": "code",
   "execution_count": 38,
   "id": "539f01fb",
   "metadata": {},
   "outputs": [],
   "source": [
    "# Store the numerical features to a dataframe attrition_num\n",
    "attrition_num = attrition[numerical]"
   ]
  },
  {
   "cell_type": "code",
   "execution_count": 39,
   "id": "fbd8ddd3",
   "metadata": {},
   "outputs": [],
   "source": [
    "attrition_final = pd.concat([attrition_num, attrition_cat], axis=1)"
   ]
  },
  {
   "cell_type": "code",
   "execution_count": 40,
   "id": "6b0772aa",
   "metadata": {},
   "outputs": [
    {
     "data": {
      "text/plain": [
       "0    1\n",
       "1    0\n",
       "2    1\n",
       "Name: Attrition, dtype: int64"
      ]
     },
     "execution_count": 40,
     "metadata": {},
     "output_type": "execute_result"
    }
   ],
   "source": [
    "# Define a dictionary for the target mapping\n",
    "target_map = {'Yes':1, 'No':0}\n",
    "# Use the pandas apply method to numerically encode our attrition target variable\n",
    "target = attrition[\"Attrition\"].apply(lambda x: target_map[x])\n",
    "target.head(3)"
   ]
  },
  {
   "cell_type": "code",
   "execution_count": 41,
   "id": "2c98d360",
   "metadata": {},
   "outputs": [
    {
     "data": {
      "application/vnd.plotly.v1+json": {
       "config": {
        "linkText": "Export to plot.ly",
        "plotlyServerURL": "https://plot.ly",
        "showLink": false
       },
       "data": [
        {
         "type": "bar",
         "x": [
          "No",
          "Yes"
         ],
         "y": [
          1233,
          237
         ]
        }
       ],
       "layout": {
        "template": {
         "data": {
          "bar": [
           {
            "error_x": {
             "color": "#2a3f5f"
            },
            "error_y": {
             "color": "#2a3f5f"
            },
            "marker": {
             "line": {
              "color": "#E5ECF6",
              "width": 0.5
             },
             "pattern": {
              "fillmode": "overlay",
              "size": 10,
              "solidity": 0.2
             }
            },
            "type": "bar"
           }
          ],
          "barpolar": [
           {
            "marker": {
             "line": {
              "color": "#E5ECF6",
              "width": 0.5
             },
             "pattern": {
              "fillmode": "overlay",
              "size": 10,
              "solidity": 0.2
             }
            },
            "type": "barpolar"
           }
          ],
          "carpet": [
           {
            "aaxis": {
             "endlinecolor": "#2a3f5f",
             "gridcolor": "white",
             "linecolor": "white",
             "minorgridcolor": "white",
             "startlinecolor": "#2a3f5f"
            },
            "baxis": {
             "endlinecolor": "#2a3f5f",
             "gridcolor": "white",
             "linecolor": "white",
             "minorgridcolor": "white",
             "startlinecolor": "#2a3f5f"
            },
            "type": "carpet"
           }
          ],
          "choropleth": [
           {
            "colorbar": {
             "outlinewidth": 0,
             "ticks": ""
            },
            "type": "choropleth"
           }
          ],
          "contour": [
           {
            "colorbar": {
             "outlinewidth": 0,
             "ticks": ""
            },
            "colorscale": [
             [
              0,
              "#0d0887"
             ],
             [
              0.1111111111111111,
              "#46039f"
             ],
             [
              0.2222222222222222,
              "#7201a8"
             ],
             [
              0.3333333333333333,
              "#9c179e"
             ],
             [
              0.4444444444444444,
              "#bd3786"
             ],
             [
              0.5555555555555556,
              "#d8576b"
             ],
             [
              0.6666666666666666,
              "#ed7953"
             ],
             [
              0.7777777777777778,
              "#fb9f3a"
             ],
             [
              0.8888888888888888,
              "#fdca26"
             ],
             [
              1,
              "#f0f921"
             ]
            ],
            "type": "contour"
           }
          ],
          "contourcarpet": [
           {
            "colorbar": {
             "outlinewidth": 0,
             "ticks": ""
            },
            "type": "contourcarpet"
           }
          ],
          "heatmap": [
           {
            "colorbar": {
             "outlinewidth": 0,
             "ticks": ""
            },
            "colorscale": [
             [
              0,
              "#0d0887"
             ],
             [
              0.1111111111111111,
              "#46039f"
             ],
             [
              0.2222222222222222,
              "#7201a8"
             ],
             [
              0.3333333333333333,
              "#9c179e"
             ],
             [
              0.4444444444444444,
              "#bd3786"
             ],
             [
              0.5555555555555556,
              "#d8576b"
             ],
             [
              0.6666666666666666,
              "#ed7953"
             ],
             [
              0.7777777777777778,
              "#fb9f3a"
             ],
             [
              0.8888888888888888,
              "#fdca26"
             ],
             [
              1,
              "#f0f921"
             ]
            ],
            "type": "heatmap"
           }
          ],
          "heatmapgl": [
           {
            "colorbar": {
             "outlinewidth": 0,
             "ticks": ""
            },
            "colorscale": [
             [
              0,
              "#0d0887"
             ],
             [
              0.1111111111111111,
              "#46039f"
             ],
             [
              0.2222222222222222,
              "#7201a8"
             ],
             [
              0.3333333333333333,
              "#9c179e"
             ],
             [
              0.4444444444444444,
              "#bd3786"
             ],
             [
              0.5555555555555556,
              "#d8576b"
             ],
             [
              0.6666666666666666,
              "#ed7953"
             ],
             [
              0.7777777777777778,
              "#fb9f3a"
             ],
             [
              0.8888888888888888,
              "#fdca26"
             ],
             [
              1,
              "#f0f921"
             ]
            ],
            "type": "heatmapgl"
           }
          ],
          "histogram": [
           {
            "marker": {
             "pattern": {
              "fillmode": "overlay",
              "size": 10,
              "solidity": 0.2
             }
            },
            "type": "histogram"
           }
          ],
          "histogram2d": [
           {
            "colorbar": {
             "outlinewidth": 0,
             "ticks": ""
            },
            "colorscale": [
             [
              0,
              "#0d0887"
             ],
             [
              0.1111111111111111,
              "#46039f"
             ],
             [
              0.2222222222222222,
              "#7201a8"
             ],
             [
              0.3333333333333333,
              "#9c179e"
             ],
             [
              0.4444444444444444,
              "#bd3786"
             ],
             [
              0.5555555555555556,
              "#d8576b"
             ],
             [
              0.6666666666666666,
              "#ed7953"
             ],
             [
              0.7777777777777778,
              "#fb9f3a"
             ],
             [
              0.8888888888888888,
              "#fdca26"
             ],
             [
              1,
              "#f0f921"
             ]
            ],
            "type": "histogram2d"
           }
          ],
          "histogram2dcontour": [
           {
            "colorbar": {
             "outlinewidth": 0,
             "ticks": ""
            },
            "colorscale": [
             [
              0,
              "#0d0887"
             ],
             [
              0.1111111111111111,
              "#46039f"
             ],
             [
              0.2222222222222222,
              "#7201a8"
             ],
             [
              0.3333333333333333,
              "#9c179e"
             ],
             [
              0.4444444444444444,
              "#bd3786"
             ],
             [
              0.5555555555555556,
              "#d8576b"
             ],
             [
              0.6666666666666666,
              "#ed7953"
             ],
             [
              0.7777777777777778,
              "#fb9f3a"
             ],
             [
              0.8888888888888888,
              "#fdca26"
             ],
             [
              1,
              "#f0f921"
             ]
            ],
            "type": "histogram2dcontour"
           }
          ],
          "mesh3d": [
           {
            "colorbar": {
             "outlinewidth": 0,
             "ticks": ""
            },
            "type": "mesh3d"
           }
          ],
          "parcoords": [
           {
            "line": {
             "colorbar": {
              "outlinewidth": 0,
              "ticks": ""
             }
            },
            "type": "parcoords"
           }
          ],
          "pie": [
           {
            "automargin": true,
            "type": "pie"
           }
          ],
          "scatter": [
           {
            "fillpattern": {
             "fillmode": "overlay",
             "size": 10,
             "solidity": 0.2
            },
            "type": "scatter"
           }
          ],
          "scatter3d": [
           {
            "line": {
             "colorbar": {
              "outlinewidth": 0,
              "ticks": ""
             }
            },
            "marker": {
             "colorbar": {
              "outlinewidth": 0,
              "ticks": ""
             }
            },
            "type": "scatter3d"
           }
          ],
          "scattercarpet": [
           {
            "marker": {
             "colorbar": {
              "outlinewidth": 0,
              "ticks": ""
             }
            },
            "type": "scattercarpet"
           }
          ],
          "scattergeo": [
           {
            "marker": {
             "colorbar": {
              "outlinewidth": 0,
              "ticks": ""
             }
            },
            "type": "scattergeo"
           }
          ],
          "scattergl": [
           {
            "marker": {
             "colorbar": {
              "outlinewidth": 0,
              "ticks": ""
             }
            },
            "type": "scattergl"
           }
          ],
          "scattermapbox": [
           {
            "marker": {
             "colorbar": {
              "outlinewidth": 0,
              "ticks": ""
             }
            },
            "type": "scattermapbox"
           }
          ],
          "scatterpolar": [
           {
            "marker": {
             "colorbar": {
              "outlinewidth": 0,
              "ticks": ""
             }
            },
            "type": "scatterpolar"
           }
          ],
          "scatterpolargl": [
           {
            "marker": {
             "colorbar": {
              "outlinewidth": 0,
              "ticks": ""
             }
            },
            "type": "scatterpolargl"
           }
          ],
          "scatterternary": [
           {
            "marker": {
             "colorbar": {
              "outlinewidth": 0,
              "ticks": ""
             }
            },
            "type": "scatterternary"
           }
          ],
          "surface": [
           {
            "colorbar": {
             "outlinewidth": 0,
             "ticks": ""
            },
            "colorscale": [
             [
              0,
              "#0d0887"
             ],
             [
              0.1111111111111111,
              "#46039f"
             ],
             [
              0.2222222222222222,
              "#7201a8"
             ],
             [
              0.3333333333333333,
              "#9c179e"
             ],
             [
              0.4444444444444444,
              "#bd3786"
             ],
             [
              0.5555555555555556,
              "#d8576b"
             ],
             [
              0.6666666666666666,
              "#ed7953"
             ],
             [
              0.7777777777777778,
              "#fb9f3a"
             ],
             [
              0.8888888888888888,
              "#fdca26"
             ],
             [
              1,
              "#f0f921"
             ]
            ],
            "type": "surface"
           }
          ],
          "table": [
           {
            "cells": {
             "fill": {
              "color": "#EBF0F8"
             },
             "line": {
              "color": "white"
             }
            },
            "header": {
             "fill": {
              "color": "#C8D4E3"
             },
             "line": {
              "color": "white"
             }
            },
            "type": "table"
           }
          ]
         },
         "layout": {
          "annotationdefaults": {
           "arrowcolor": "#2a3f5f",
           "arrowhead": 0,
           "arrowwidth": 1
          },
          "autotypenumbers": "strict",
          "coloraxis": {
           "colorbar": {
            "outlinewidth": 0,
            "ticks": ""
           }
          },
          "colorscale": {
           "diverging": [
            [
             0,
             "#8e0152"
            ],
            [
             0.1,
             "#c51b7d"
            ],
            [
             0.2,
             "#de77ae"
            ],
            [
             0.3,
             "#f1b6da"
            ],
            [
             0.4,
             "#fde0ef"
            ],
            [
             0.5,
             "#f7f7f7"
            ],
            [
             0.6,
             "#e6f5d0"
            ],
            [
             0.7,
             "#b8e186"
            ],
            [
             0.8,
             "#7fbc41"
            ],
            [
             0.9,
             "#4d9221"
            ],
            [
             1,
             "#276419"
            ]
           ],
           "sequential": [
            [
             0,
             "#0d0887"
            ],
            [
             0.1111111111111111,
             "#46039f"
            ],
            [
             0.2222222222222222,
             "#7201a8"
            ],
            [
             0.3333333333333333,
             "#9c179e"
            ],
            [
             0.4444444444444444,
             "#bd3786"
            ],
            [
             0.5555555555555556,
             "#d8576b"
            ],
            [
             0.6666666666666666,
             "#ed7953"
            ],
            [
             0.7777777777777778,
             "#fb9f3a"
            ],
            [
             0.8888888888888888,
             "#fdca26"
            ],
            [
             1,
             "#f0f921"
            ]
           ],
           "sequentialminus": [
            [
             0,
             "#0d0887"
            ],
            [
             0.1111111111111111,
             "#46039f"
            ],
            [
             0.2222222222222222,
             "#7201a8"
            ],
            [
             0.3333333333333333,
             "#9c179e"
            ],
            [
             0.4444444444444444,
             "#bd3786"
            ],
            [
             0.5555555555555556,
             "#d8576b"
            ],
            [
             0.6666666666666666,
             "#ed7953"
            ],
            [
             0.7777777777777778,
             "#fb9f3a"
            ],
            [
             0.8888888888888888,
             "#fdca26"
            ],
            [
             1,
             "#f0f921"
            ]
           ]
          },
          "colorway": [
           "#636efa",
           "#EF553B",
           "#00cc96",
           "#ab63fa",
           "#FFA15A",
           "#19d3f3",
           "#FF6692",
           "#B6E880",
           "#FF97FF",
           "#FECB52"
          ],
          "font": {
           "color": "#2a3f5f"
          },
          "geo": {
           "bgcolor": "white",
           "lakecolor": "white",
           "landcolor": "#E5ECF6",
           "showlakes": true,
           "showland": true,
           "subunitcolor": "white"
          },
          "hoverlabel": {
           "align": "left"
          },
          "hovermode": "closest",
          "mapbox": {
           "style": "light"
          },
          "paper_bgcolor": "white",
          "plot_bgcolor": "#E5ECF6",
          "polar": {
           "angularaxis": {
            "gridcolor": "white",
            "linecolor": "white",
            "ticks": ""
           },
           "bgcolor": "#E5ECF6",
           "radialaxis": {
            "gridcolor": "white",
            "linecolor": "white",
            "ticks": ""
           }
          },
          "scene": {
           "xaxis": {
            "backgroundcolor": "#E5ECF6",
            "gridcolor": "white",
            "gridwidth": 2,
            "linecolor": "white",
            "showbackground": true,
            "ticks": "",
            "zerolinecolor": "white"
           },
           "yaxis": {
            "backgroundcolor": "#E5ECF6",
            "gridcolor": "white",
            "gridwidth": 2,
            "linecolor": "white",
            "showbackground": true,
            "ticks": "",
            "zerolinecolor": "white"
           },
           "zaxis": {
            "backgroundcolor": "#E5ECF6",
            "gridcolor": "white",
            "gridwidth": 2,
            "linecolor": "white",
            "showbackground": true,
            "ticks": "",
            "zerolinecolor": "white"
           }
          },
          "shapedefaults": {
           "line": {
            "color": "#2a3f5f"
           }
          },
          "ternary": {
           "aaxis": {
            "gridcolor": "white",
            "linecolor": "white",
            "ticks": ""
           },
           "baxis": {
            "gridcolor": "white",
            "linecolor": "white",
            "ticks": ""
           },
           "bgcolor": "#E5ECF6",
           "caxis": {
            "gridcolor": "white",
            "linecolor": "white",
            "ticks": ""
           }
          },
          "title": {
           "x": 0.05
          },
          "xaxis": {
           "automargin": true,
           "gridcolor": "white",
           "linecolor": "white",
           "ticks": "",
           "title": {
            "standoff": 15
           },
           "zerolinecolor": "white",
           "zerolinewidth": 2
          },
          "yaxis": {
           "automargin": true,
           "gridcolor": "white",
           "linecolor": "white",
           "ticks": "",
           "title": {
            "standoff": 15
           },
           "zerolinecolor": "white",
           "zerolinewidth": 2
          }
         }
        }
       }
      },
      "text/html": [
       "<div>                            <div id=\"c88233a5-97f1-4461-9c55-db9f95ecd4d2\" class=\"plotly-graph-div\" style=\"height:525px; width:100%;\"></div>            <script type=\"text/javascript\">                require([\"plotly\"], function(Plotly) {                    window.PLOTLYENV=window.PLOTLYENV || {};                                    if (document.getElementById(\"c88233a5-97f1-4461-9c55-db9f95ecd4d2\")) {                    Plotly.newPlot(                        \"c88233a5-97f1-4461-9c55-db9f95ecd4d2\",                        [{\"x\":[\"No\",\"Yes\"],\"y\":[1233,237],\"type\":\"bar\"}],                        {\"template\":{\"data\":{\"barpolar\":[{\"marker\":{\"line\":{\"color\":\"#E5ECF6\",\"width\":0.5},\"pattern\":{\"fillmode\":\"overlay\",\"size\":10,\"solidity\":0.2}},\"type\":\"barpolar\"}],\"bar\":[{\"error_x\":{\"color\":\"#2a3f5f\"},\"error_y\":{\"color\":\"#2a3f5f\"},\"marker\":{\"line\":{\"color\":\"#E5ECF6\",\"width\":0.5},\"pattern\":{\"fillmode\":\"overlay\",\"size\":10,\"solidity\":0.2}},\"type\":\"bar\"}],\"carpet\":[{\"aaxis\":{\"endlinecolor\":\"#2a3f5f\",\"gridcolor\":\"white\",\"linecolor\":\"white\",\"minorgridcolor\":\"white\",\"startlinecolor\":\"#2a3f5f\"},\"baxis\":{\"endlinecolor\":\"#2a3f5f\",\"gridcolor\":\"white\",\"linecolor\":\"white\",\"minorgridcolor\":\"white\",\"startlinecolor\":\"#2a3f5f\"},\"type\":\"carpet\"}],\"choropleth\":[{\"colorbar\":{\"outlinewidth\":0,\"ticks\":\"\"},\"type\":\"choropleth\"}],\"contourcarpet\":[{\"colorbar\":{\"outlinewidth\":0,\"ticks\":\"\"},\"type\":\"contourcarpet\"}],\"contour\":[{\"colorbar\":{\"outlinewidth\":0,\"ticks\":\"\"},\"colorscale\":[[0.0,\"#0d0887\"],[0.1111111111111111,\"#46039f\"],[0.2222222222222222,\"#7201a8\"],[0.3333333333333333,\"#9c179e\"],[0.4444444444444444,\"#bd3786\"],[0.5555555555555556,\"#d8576b\"],[0.6666666666666666,\"#ed7953\"],[0.7777777777777778,\"#fb9f3a\"],[0.8888888888888888,\"#fdca26\"],[1.0,\"#f0f921\"]],\"type\":\"contour\"}],\"heatmapgl\":[{\"colorbar\":{\"outlinewidth\":0,\"ticks\":\"\"},\"colorscale\":[[0.0,\"#0d0887\"],[0.1111111111111111,\"#46039f\"],[0.2222222222222222,\"#7201a8\"],[0.3333333333333333,\"#9c179e\"],[0.4444444444444444,\"#bd3786\"],[0.5555555555555556,\"#d8576b\"],[0.6666666666666666,\"#ed7953\"],[0.7777777777777778,\"#fb9f3a\"],[0.8888888888888888,\"#fdca26\"],[1.0,\"#f0f921\"]],\"type\":\"heatmapgl\"}],\"heatmap\":[{\"colorbar\":{\"outlinewidth\":0,\"ticks\":\"\"},\"colorscale\":[[0.0,\"#0d0887\"],[0.1111111111111111,\"#46039f\"],[0.2222222222222222,\"#7201a8\"],[0.3333333333333333,\"#9c179e\"],[0.4444444444444444,\"#bd3786\"],[0.5555555555555556,\"#d8576b\"],[0.6666666666666666,\"#ed7953\"],[0.7777777777777778,\"#fb9f3a\"],[0.8888888888888888,\"#fdca26\"],[1.0,\"#f0f921\"]],\"type\":\"heatmap\"}],\"histogram2dcontour\":[{\"colorbar\":{\"outlinewidth\":0,\"ticks\":\"\"},\"colorscale\":[[0.0,\"#0d0887\"],[0.1111111111111111,\"#46039f\"],[0.2222222222222222,\"#7201a8\"],[0.3333333333333333,\"#9c179e\"],[0.4444444444444444,\"#bd3786\"],[0.5555555555555556,\"#d8576b\"],[0.6666666666666666,\"#ed7953\"],[0.7777777777777778,\"#fb9f3a\"],[0.8888888888888888,\"#fdca26\"],[1.0,\"#f0f921\"]],\"type\":\"histogram2dcontour\"}],\"histogram2d\":[{\"colorbar\":{\"outlinewidth\":0,\"ticks\":\"\"},\"colorscale\":[[0.0,\"#0d0887\"],[0.1111111111111111,\"#46039f\"],[0.2222222222222222,\"#7201a8\"],[0.3333333333333333,\"#9c179e\"],[0.4444444444444444,\"#bd3786\"],[0.5555555555555556,\"#d8576b\"],[0.6666666666666666,\"#ed7953\"],[0.7777777777777778,\"#fb9f3a\"],[0.8888888888888888,\"#fdca26\"],[1.0,\"#f0f921\"]],\"type\":\"histogram2d\"}],\"histogram\":[{\"marker\":{\"pattern\":{\"fillmode\":\"overlay\",\"size\":10,\"solidity\":0.2}},\"type\":\"histogram\"}],\"mesh3d\":[{\"colorbar\":{\"outlinewidth\":0,\"ticks\":\"\"},\"type\":\"mesh3d\"}],\"parcoords\":[{\"line\":{\"colorbar\":{\"outlinewidth\":0,\"ticks\":\"\"}},\"type\":\"parcoords\"}],\"pie\":[{\"automargin\":true,\"type\":\"pie\"}],\"scatter3d\":[{\"line\":{\"colorbar\":{\"outlinewidth\":0,\"ticks\":\"\"}},\"marker\":{\"colorbar\":{\"outlinewidth\":0,\"ticks\":\"\"}},\"type\":\"scatter3d\"}],\"scattercarpet\":[{\"marker\":{\"colorbar\":{\"outlinewidth\":0,\"ticks\":\"\"}},\"type\":\"scattercarpet\"}],\"scattergeo\":[{\"marker\":{\"colorbar\":{\"outlinewidth\":0,\"ticks\":\"\"}},\"type\":\"scattergeo\"}],\"scattergl\":[{\"marker\":{\"colorbar\":{\"outlinewidth\":0,\"ticks\":\"\"}},\"type\":\"scattergl\"}],\"scattermapbox\":[{\"marker\":{\"colorbar\":{\"outlinewidth\":0,\"ticks\":\"\"}},\"type\":\"scattermapbox\"}],\"scatterpolargl\":[{\"marker\":{\"colorbar\":{\"outlinewidth\":0,\"ticks\":\"\"}},\"type\":\"scatterpolargl\"}],\"scatterpolar\":[{\"marker\":{\"colorbar\":{\"outlinewidth\":0,\"ticks\":\"\"}},\"type\":\"scatterpolar\"}],\"scatter\":[{\"fillpattern\":{\"fillmode\":\"overlay\",\"size\":10,\"solidity\":0.2},\"type\":\"scatter\"}],\"scatterternary\":[{\"marker\":{\"colorbar\":{\"outlinewidth\":0,\"ticks\":\"\"}},\"type\":\"scatterternary\"}],\"surface\":[{\"colorbar\":{\"outlinewidth\":0,\"ticks\":\"\"},\"colorscale\":[[0.0,\"#0d0887\"],[0.1111111111111111,\"#46039f\"],[0.2222222222222222,\"#7201a8\"],[0.3333333333333333,\"#9c179e\"],[0.4444444444444444,\"#bd3786\"],[0.5555555555555556,\"#d8576b\"],[0.6666666666666666,\"#ed7953\"],[0.7777777777777778,\"#fb9f3a\"],[0.8888888888888888,\"#fdca26\"],[1.0,\"#f0f921\"]],\"type\":\"surface\"}],\"table\":[{\"cells\":{\"fill\":{\"color\":\"#EBF0F8\"},\"line\":{\"color\":\"white\"}},\"header\":{\"fill\":{\"color\":\"#C8D4E3\"},\"line\":{\"color\":\"white\"}},\"type\":\"table\"}]},\"layout\":{\"annotationdefaults\":{\"arrowcolor\":\"#2a3f5f\",\"arrowhead\":0,\"arrowwidth\":1},\"autotypenumbers\":\"strict\",\"coloraxis\":{\"colorbar\":{\"outlinewidth\":0,\"ticks\":\"\"}},\"colorscale\":{\"diverging\":[[0,\"#8e0152\"],[0.1,\"#c51b7d\"],[0.2,\"#de77ae\"],[0.3,\"#f1b6da\"],[0.4,\"#fde0ef\"],[0.5,\"#f7f7f7\"],[0.6,\"#e6f5d0\"],[0.7,\"#b8e186\"],[0.8,\"#7fbc41\"],[0.9,\"#4d9221\"],[1,\"#276419\"]],\"sequential\":[[0.0,\"#0d0887\"],[0.1111111111111111,\"#46039f\"],[0.2222222222222222,\"#7201a8\"],[0.3333333333333333,\"#9c179e\"],[0.4444444444444444,\"#bd3786\"],[0.5555555555555556,\"#d8576b\"],[0.6666666666666666,\"#ed7953\"],[0.7777777777777778,\"#fb9f3a\"],[0.8888888888888888,\"#fdca26\"],[1.0,\"#f0f921\"]],\"sequentialminus\":[[0.0,\"#0d0887\"],[0.1111111111111111,\"#46039f\"],[0.2222222222222222,\"#7201a8\"],[0.3333333333333333,\"#9c179e\"],[0.4444444444444444,\"#bd3786\"],[0.5555555555555556,\"#d8576b\"],[0.6666666666666666,\"#ed7953\"],[0.7777777777777778,\"#fb9f3a\"],[0.8888888888888888,\"#fdca26\"],[1.0,\"#f0f921\"]]},\"colorway\":[\"#636efa\",\"#EF553B\",\"#00cc96\",\"#ab63fa\",\"#FFA15A\",\"#19d3f3\",\"#FF6692\",\"#B6E880\",\"#FF97FF\",\"#FECB52\"],\"font\":{\"color\":\"#2a3f5f\"},\"geo\":{\"bgcolor\":\"white\",\"lakecolor\":\"white\",\"landcolor\":\"#E5ECF6\",\"showlakes\":true,\"showland\":true,\"subunitcolor\":\"white\"},\"hoverlabel\":{\"align\":\"left\"},\"hovermode\":\"closest\",\"mapbox\":{\"style\":\"light\"},\"paper_bgcolor\":\"white\",\"plot_bgcolor\":\"#E5ECF6\",\"polar\":{\"angularaxis\":{\"gridcolor\":\"white\",\"linecolor\":\"white\",\"ticks\":\"\"},\"bgcolor\":\"#E5ECF6\",\"radialaxis\":{\"gridcolor\":\"white\",\"linecolor\":\"white\",\"ticks\":\"\"}},\"scene\":{\"xaxis\":{\"backgroundcolor\":\"#E5ECF6\",\"gridcolor\":\"white\",\"gridwidth\":2,\"linecolor\":\"white\",\"showbackground\":true,\"ticks\":\"\",\"zerolinecolor\":\"white\"},\"yaxis\":{\"backgroundcolor\":\"#E5ECF6\",\"gridcolor\":\"white\",\"gridwidth\":2,\"linecolor\":\"white\",\"showbackground\":true,\"ticks\":\"\",\"zerolinecolor\":\"white\"},\"zaxis\":{\"backgroundcolor\":\"#E5ECF6\",\"gridcolor\":\"white\",\"gridwidth\":2,\"linecolor\":\"white\",\"showbackground\":true,\"ticks\":\"\",\"zerolinecolor\":\"white\"}},\"shapedefaults\":{\"line\":{\"color\":\"#2a3f5f\"}},\"ternary\":{\"aaxis\":{\"gridcolor\":\"white\",\"linecolor\":\"white\",\"ticks\":\"\"},\"baxis\":{\"gridcolor\":\"white\",\"linecolor\":\"white\",\"ticks\":\"\"},\"bgcolor\":\"#E5ECF6\",\"caxis\":{\"gridcolor\":\"white\",\"linecolor\":\"white\",\"ticks\":\"\"}},\"title\":{\"x\":0.05},\"xaxis\":{\"automargin\":true,\"gridcolor\":\"white\",\"linecolor\":\"white\",\"ticks\":\"\",\"title\":{\"standoff\":15},\"zerolinecolor\":\"white\",\"zerolinewidth\":2},\"yaxis\":{\"automargin\":true,\"gridcolor\":\"white\",\"linecolor\":\"white\",\"ticks\":\"\",\"title\":{\"standoff\":15},\"zerolinecolor\":\"white\",\"zerolinewidth\":2}}}},                        {\"responsive\": true}                    ).then(function(){\n",
       "                            \n",
       "var gd = document.getElementById('c88233a5-97f1-4461-9c55-db9f95ecd4d2');\n",
       "var x = new MutationObserver(function (mutations, observer) {{\n",
       "        var display = window.getComputedStyle(gd).display;\n",
       "        if (!display || display === 'none') {{\n",
       "            console.log([gd, 'removed!']);\n",
       "            Plotly.purge(gd);\n",
       "            observer.disconnect();\n",
       "        }}\n",
       "}});\n",
       "\n",
       "// Listen for the removal of the full notebook cells\n",
       "var notebookContainer = gd.closest('#notebook-container');\n",
       "if (notebookContainer) {{\n",
       "    x.observe(notebookContainer, {childList: true});\n",
       "}}\n",
       "\n",
       "// Listen for the clearing of the current output cell\n",
       "var outputEl = gd.closest('.output');\n",
       "if (outputEl) {{\n",
       "    x.observe(outputEl, {childList: true});\n",
       "}}\n",
       "\n",
       "                        })                };                });            </script>        </div>"
      ]
     },
     "metadata": {},
     "output_type": "display_data"
    }
   ],
   "source": [
    "data = [go.Bar(\n",
    "            x=attrition[\"Attrition\"].value_counts().index.values,\n",
    "            y= attrition[\"Attrition\"].value_counts().values\n",
    "    )]\n",
    "\n",
    "py.iplot(data, filename='basic-bar')"
   ]
  },
  {
   "cell_type": "code",
   "execution_count": 43,
   "id": "9c849f9d",
   "metadata": {},
   "outputs": [],
   "source": [
    "# Import the train_test_split method\n",
    "from sklearn.model_selection import train_test_split\n",
    "from sklearn.model_selection import StratifiedShuffleSplit\n",
    "\n",
    "# Split data into train and test sets as well as for validation and testing\n",
    "train, test, target_train, target_val = train_test_split(attrition_final, \n",
    "                                                         target, \n",
    "                                                         train_size= 0.80,\n",
    "                                                         random_state=0);\n",
    "#train, test, target_train, target_val = StratifiedShuffleSplit(attrition_final, target, random_state=0);"
   ]
  },
  {
   "cell_type": "code",
   "execution_count": 44,
   "id": "a86d5c86",
   "metadata": {},
   "outputs": [],
   "source": [
    "from imblearn.over_sampling import SMOTE"
   ]
  },
  {
   "cell_type": "code",
   "execution_count": 46,
   "id": "2648c01a",
   "metadata": {},
   "outputs": [],
   "source": [
    "# Create SMOTE object\n",
    "oversampler = SMOTE(random_state=0)\n",
    "\n",
    "# Use fit_resample instead of fit_sample\n",
    "smote_train, smote_target = oversampler.fit_resample(train, target_train)\n"
   ]
  },
  {
   "cell_type": "code",
   "execution_count": 48,
   "id": "dadc7a36",
   "metadata": {},
   "outputs": [],
   "source": [
    "seed = 0   # We set our random seed to zero for reproducibility\n",
    "# Random Forest parameters\n",
    "rf_params = {\n",
    "    'n_jobs': -1,\n",
    "    'n_estimators': 1000,\n",
    "#     'warm_start': True, \n",
    "    'max_features': 0.3,\n",
    "    'max_depth': 4,\n",
    "    'min_samples_leaf': 2,\n",
    "    'max_features' : 'sqrt',\n",
    "    'random_state' : seed,\n",
    "    'verbose': 0\n",
    "}"
   ]
  },
  {
   "cell_type": "code",
   "execution_count": 49,
   "id": "d4dcab12",
   "metadata": {},
   "outputs": [],
   "source": [
    "rf = RandomForestClassifier(**rf_params)"
   ]
  },
  {
   "cell_type": "code",
   "execution_count": 51,
   "id": "879c6bda",
   "metadata": {},
   "outputs": [
    {
     "data": {
      "text/html": [
       "<style>#sk-container-id-1 {color: black;background-color: white;}#sk-container-id-1 pre{padding: 0;}#sk-container-id-1 div.sk-toggleable {background-color: white;}#sk-container-id-1 label.sk-toggleable__label {cursor: pointer;display: block;width: 100%;margin-bottom: 0;padding: 0.3em;box-sizing: border-box;text-align: center;}#sk-container-id-1 label.sk-toggleable__label-arrow:before {content: \"▸\";float: left;margin-right: 0.25em;color: #696969;}#sk-container-id-1 label.sk-toggleable__label-arrow:hover:before {color: black;}#sk-container-id-1 div.sk-estimator:hover label.sk-toggleable__label-arrow:before {color: black;}#sk-container-id-1 div.sk-toggleable__content {max-height: 0;max-width: 0;overflow: hidden;text-align: left;background-color: #f0f8ff;}#sk-container-id-1 div.sk-toggleable__content pre {margin: 0.2em;color: black;border-radius: 0.25em;background-color: #f0f8ff;}#sk-container-id-1 input.sk-toggleable__control:checked~div.sk-toggleable__content {max-height: 200px;max-width: 100%;overflow: auto;}#sk-container-id-1 input.sk-toggleable__control:checked~label.sk-toggleable__label-arrow:before {content: \"▾\";}#sk-container-id-1 div.sk-estimator input.sk-toggleable__control:checked~label.sk-toggleable__label {background-color: #d4ebff;}#sk-container-id-1 div.sk-label input.sk-toggleable__control:checked~label.sk-toggleable__label {background-color: #d4ebff;}#sk-container-id-1 input.sk-hidden--visually {border: 0;clip: rect(1px 1px 1px 1px);clip: rect(1px, 1px, 1px, 1px);height: 1px;margin: -1px;overflow: hidden;padding: 0;position: absolute;width: 1px;}#sk-container-id-1 div.sk-estimator {font-family: monospace;background-color: #f0f8ff;border: 1px dotted black;border-radius: 0.25em;box-sizing: border-box;margin-bottom: 0.5em;}#sk-container-id-1 div.sk-estimator:hover {background-color: #d4ebff;}#sk-container-id-1 div.sk-parallel-item::after {content: \"\";width: 100%;border-bottom: 1px solid gray;flex-grow: 1;}#sk-container-id-1 div.sk-label:hover label.sk-toggleable__label {background-color: #d4ebff;}#sk-container-id-1 div.sk-serial::before {content: \"\";position: absolute;border-left: 1px solid gray;box-sizing: border-box;top: 0;bottom: 0;left: 50%;z-index: 0;}#sk-container-id-1 div.sk-serial {display: flex;flex-direction: column;align-items: center;background-color: white;padding-right: 0.2em;padding-left: 0.2em;position: relative;}#sk-container-id-1 div.sk-item {position: relative;z-index: 1;}#sk-container-id-1 div.sk-parallel {display: flex;align-items: stretch;justify-content: center;background-color: white;position: relative;}#sk-container-id-1 div.sk-item::before, #sk-container-id-1 div.sk-parallel-item::before {content: \"\";position: absolute;border-left: 1px solid gray;box-sizing: border-box;top: 0;bottom: 0;left: 50%;z-index: -1;}#sk-container-id-1 div.sk-parallel-item {display: flex;flex-direction: column;z-index: 1;position: relative;background-color: white;}#sk-container-id-1 div.sk-parallel-item:first-child::after {align-self: flex-end;width: 50%;}#sk-container-id-1 div.sk-parallel-item:last-child::after {align-self: flex-start;width: 50%;}#sk-container-id-1 div.sk-parallel-item:only-child::after {width: 0;}#sk-container-id-1 div.sk-dashed-wrapped {border: 1px dashed gray;margin: 0 0.4em 0.5em 0.4em;box-sizing: border-box;padding-bottom: 0.4em;background-color: white;}#sk-container-id-1 div.sk-label label {font-family: monospace;font-weight: bold;display: inline-block;line-height: 1.2em;}#sk-container-id-1 div.sk-label-container {text-align: center;}#sk-container-id-1 div.sk-container {/* jupyter's `normalize.less` sets `[hidden] { display: none; }` but bootstrap.min.css set `[hidden] { display: none !important; }` so we also need the `!important` here to be able to override the default hidden behavior on the sphinx rendered scikit-learn.org. See: https://github.com/scikit-learn/scikit-learn/issues/21755 */display: inline-block !important;position: relative;}#sk-container-id-1 div.sk-text-repr-fallback {display: none;}</style><div id=\"sk-container-id-1\" class=\"sk-top-container\"><div class=\"sk-text-repr-fallback\"><pre>RandomForestClassifier(max_depth=4, min_samples_leaf=2, n_estimators=1000,\n",
       "                       n_jobs=-1, random_state=0)</pre><b>In a Jupyter environment, please rerun this cell to show the HTML representation or trust the notebook. <br />On GitHub, the HTML representation is unable to render, please try loading this page with nbviewer.org.</b></div><div class=\"sk-container\" hidden><div class=\"sk-item\"><div class=\"sk-estimator sk-toggleable\"><input class=\"sk-toggleable__control sk-hidden--visually\" id=\"sk-estimator-id-1\" type=\"checkbox\" checked><label for=\"sk-estimator-id-1\" class=\"sk-toggleable__label sk-toggleable__label-arrow\">RandomForestClassifier</label><div class=\"sk-toggleable__content\"><pre>RandomForestClassifier(max_depth=4, min_samples_leaf=2, n_estimators=1000,\n",
       "                       n_jobs=-1, random_state=0)</pre></div></div></div></div></div>"
      ],
      "text/plain": [
       "RandomForestClassifier(max_depth=4, min_samples_leaf=2, n_estimators=1000,\n",
       "                       n_jobs=-1, random_state=0)"
      ]
     },
     "execution_count": 51,
     "metadata": {},
     "output_type": "execute_result"
    }
   ],
   "source": [
    "rf.fit(smote_train, smote_target)"
   ]
  },
  {
   "cell_type": "code",
   "execution_count": 52,
   "id": "c312a8a9",
   "metadata": {},
   "outputs": [],
   "source": [
    "rf_predictions = rf.predict(test)"
   ]
  },
  {
   "cell_type": "code",
   "execution_count": 53,
   "id": "0b8c19b0",
   "metadata": {},
   "outputs": [
    {
     "name": "stdout",
     "output_type": "stream",
     "text": [
      "Accuracy score: 0.8435374149659864\n",
      "================================================================================\n",
      "              precision    recall  f1-score   support\n",
      "\n",
      "           0       0.90      0.92      0.91       245\n",
      "           1       0.53      0.47      0.50        49\n",
      "\n",
      "    accuracy                           0.84       294\n",
      "   macro avg       0.72      0.69      0.70       294\n",
      "weighted avg       0.84      0.84      0.84       294\n",
      "\n"
     ]
    }
   ],
   "source": [
    "print(\"Accuracy score: {}\".format(accuracy_score(target_val, rf_predictions)))\n",
    "print(\"=\"*80)\n",
    "print(classification_report(target_val, rf_predictions))"
   ]
  },
  {
   "cell_type": "code",
   "execution_count": 54,
   "id": "677cb51e",
   "metadata": {},
   "outputs": [
    {
     "data": {
      "application/vnd.plotly.v1+json": {
       "config": {
        "linkText": "Export to plot.ly",
        "plotlyServerURL": "https://plot.ly",
        "showLink": false
       },
       "data": [
        {
         "marker": {
          "color": [
           0.013586854479467806,
           0.004849313780308557,
           0.00331540062895889,
           0.0053287884067059425,
           0,
           0.0037343111578262405,
           0.016429102814188815,
           0.002887251025959534,
           0.014178825236299262,
           0.03494604521677385,
           0.03570097778966416,
           0.03947911274998142,
           0.004160207668225731,
           0.001441635805674559,
           0.0013141224940918046,
           0.0006384061327254036,
           0.009406537590756039,
           0,
           0.05470270130861117,
           0.016034801015822314,
           0.004707449025841843,
           0.01655189305890917,
           0.012013215667344894,
           0.014433167017165627,
           0.001140007882488096,
           0.011386423261001099,
           0.01494095143308129,
           0.0036097050037423696,
           0.0034420487582955506,
           0.005929818591785565,
           0,
           0.003159500933216448,
           0.014321068469567856,
           0.0025891011880486213,
           0.011753499281639355,
           0.036280224922129935,
           0.032746928222140446,
           0.04251483061051918,
           0.004136074425661642,
           0.0014150764429978404,
           0.001498612281764914,
           0.0003620053341783945,
           0.009892414964081652,
           0,
           0.0537800652953424,
           0.015782920882320126,
           0.0036175448897673335,
           0.019417123788699964,
           0.010429936236929394,
           0.016685848562910992,
           0.0009727519972014617,
           0.013018862534203755,
           0.007107811424964071,
           0.0011566421959080784,
           0.017591107978959467,
           0.000533212117791141,
           0.04170485260723317,
           0.005024862594119655,
           0.00010539963483102371,
           0.02317208889012274,
           0.00037072212630389023,
           0.038899868350596584,
           0.00021825071655034523,
           0.0005498324070477129,
           0.007950669676961992,
           0.0019727964678409042,
           0.0009150668875791726,
           0.00031323504694471215,
           0.0010307962734934478,
           0.0006582025243628915,
           0.0033725677820043436,
           0.00029259494847611435,
           0.009510220343737495,
           0.001901286537138733,
           0.0002939531727052842,
           0.016378000094859527,
           0.015020092616384552,
           0.006576949508194849,
           0,
           0.1418238463987733,
           0.01089160441109608
          ],
          "colorscale": [
           [
            0,
            "rgb(12,51,131)"
           ],
           [
            0.25,
            "rgb(10,136,186)"
           ],
           [
            0.5,
            "rgb(242,211,56)"
           ],
           [
            0.75,
            "rgb(242,143,56)"
           ],
           [
            1,
            "rgb(217,30,30)"
           ]
          ],
          "showscale": true,
          "size": 13,
          "sizemode": "diameter",
          "sizeref": 1
         },
         "mode": "markers",
         "text": [
          "Age",
          "DailyRate",
          "DistanceFromHome",
          "Education",
          "EmployeeCount",
          "EmployeeNumber",
          "EnvironmentSatisfaction",
          "HourlyRate",
          "JobInvolvement",
          "JobLevel",
          "JobSatisfaction",
          "MonthlyIncome",
          "MonthlyRate",
          "NumCompaniesWorked",
          "PercentSalaryHike",
          "PerformanceRating",
          "RelationshipSatisfaction",
          "StandardHours",
          "StockOptionLevel",
          "TotalWorkingYears",
          "TrainingTimesLastYear",
          "WorkLifeBalance",
          "YearsAtCompany",
          "YearsInCurrentRole",
          "YearsSinceLastPromotion",
          "YearsWithCurrManager",
          "Age",
          "DailyRate",
          "DistanceFromHome",
          "Education",
          "EmployeeCount",
          "EmployeeNumber",
          "EnvironmentSatisfaction",
          "HourlyRate",
          "JobInvolvement",
          "JobLevel",
          "JobSatisfaction",
          "MonthlyIncome",
          "MonthlyRate",
          "NumCompaniesWorked",
          "PercentSalaryHike",
          "PerformanceRating",
          "RelationshipSatisfaction",
          "StandardHours",
          "StockOptionLevel",
          "TotalWorkingYears",
          "TrainingTimesLastYear",
          "WorkLifeBalance",
          "YearsAtCompany",
          "YearsInCurrentRole",
          "YearsSinceLastPromotion",
          "YearsWithCurrManager",
          "BusinessTravel_Non-Travel",
          "BusinessTravel_Travel_Frequently",
          "BusinessTravel_Travel_Rarely",
          "Department_Human Resources",
          "Department_Research & Development",
          "Department_Sales",
          "EducationField_Human Resources",
          "EducationField_Life Sciences",
          "EducationField_Marketing",
          "EducationField_Medical",
          "EducationField_Other",
          "EducationField_Technical Degree",
          "Gender_Female",
          "Gender_Male",
          "JobRole_Healthcare Representative",
          "JobRole_Human Resources",
          "JobRole_Laboratory Technician",
          "JobRole_Manager",
          "JobRole_Manufacturing Director",
          "JobRole_Research Director",
          "JobRole_Research Scientist",
          "JobRole_Sales Executive",
          "JobRole_Sales Representative",
          "MaritalStatus_Divorced",
          "MaritalStatus_Married",
          "MaritalStatus_Single",
          "Over18_Y",
          "OverTime_No",
          "OverTime_Yes"
         ],
         "type": "scatter",
         "x": [
          "Age",
          "DailyRate",
          "DistanceFromHome",
          "Education",
          "EmployeeCount",
          "EmployeeNumber",
          "EnvironmentSatisfaction",
          "HourlyRate",
          "JobInvolvement",
          "JobLevel",
          "JobSatisfaction",
          "MonthlyIncome",
          "MonthlyRate",
          "NumCompaniesWorked",
          "PercentSalaryHike",
          "PerformanceRating",
          "RelationshipSatisfaction",
          "StandardHours",
          "StockOptionLevel",
          "TotalWorkingYears",
          "TrainingTimesLastYear",
          "WorkLifeBalance",
          "YearsAtCompany",
          "YearsInCurrentRole",
          "YearsSinceLastPromotion",
          "YearsWithCurrManager",
          "Age",
          "DailyRate",
          "DistanceFromHome",
          "Education",
          "EmployeeCount",
          "EmployeeNumber",
          "EnvironmentSatisfaction",
          "HourlyRate",
          "JobInvolvement",
          "JobLevel",
          "JobSatisfaction",
          "MonthlyIncome",
          "MonthlyRate",
          "NumCompaniesWorked",
          "PercentSalaryHike",
          "PerformanceRating",
          "RelationshipSatisfaction",
          "StandardHours",
          "StockOptionLevel",
          "TotalWorkingYears",
          "TrainingTimesLastYear",
          "WorkLifeBalance",
          "YearsAtCompany",
          "YearsInCurrentRole",
          "YearsSinceLastPromotion",
          "YearsWithCurrManager",
          "BusinessTravel_Non-Travel",
          "BusinessTravel_Travel_Frequently",
          "BusinessTravel_Travel_Rarely",
          "Department_Human Resources",
          "Department_Research & Development",
          "Department_Sales",
          "EducationField_Human Resources",
          "EducationField_Life Sciences",
          "EducationField_Marketing",
          "EducationField_Medical",
          "EducationField_Other",
          "EducationField_Technical Degree",
          "Gender_Female",
          "Gender_Male",
          "JobRole_Healthcare Representative",
          "JobRole_Human Resources",
          "JobRole_Laboratory Technician",
          "JobRole_Manager",
          "JobRole_Manufacturing Director",
          "JobRole_Research Director",
          "JobRole_Research Scientist",
          "JobRole_Sales Executive",
          "JobRole_Sales Representative",
          "MaritalStatus_Divorced",
          "MaritalStatus_Married",
          "MaritalStatus_Single",
          "Over18_Y",
          "OverTime_No",
          "OverTime_Yes"
         ],
         "y": [
          0.013586854479467806,
          0.004849313780308557,
          0.00331540062895889,
          0.0053287884067059425,
          0,
          0.0037343111578262405,
          0.016429102814188815,
          0.002887251025959534,
          0.014178825236299262,
          0.03494604521677385,
          0.03570097778966416,
          0.03947911274998142,
          0.004160207668225731,
          0.001441635805674559,
          0.0013141224940918046,
          0.0006384061327254036,
          0.009406537590756039,
          0,
          0.05470270130861117,
          0.016034801015822314,
          0.004707449025841843,
          0.01655189305890917,
          0.012013215667344894,
          0.014433167017165627,
          0.001140007882488096,
          0.011386423261001099,
          0.01494095143308129,
          0.0036097050037423696,
          0.0034420487582955506,
          0.005929818591785565,
          0,
          0.003159500933216448,
          0.014321068469567856,
          0.0025891011880486213,
          0.011753499281639355,
          0.036280224922129935,
          0.032746928222140446,
          0.04251483061051918,
          0.004136074425661642,
          0.0014150764429978404,
          0.001498612281764914,
          0.0003620053341783945,
          0.009892414964081652,
          0,
          0.0537800652953424,
          0.015782920882320126,
          0.0036175448897673335,
          0.019417123788699964,
          0.010429936236929394,
          0.016685848562910992,
          0.0009727519972014617,
          0.013018862534203755,
          0.007107811424964071,
          0.0011566421959080784,
          0.017591107978959467,
          0.000533212117791141,
          0.04170485260723317,
          0.005024862594119655,
          0.00010539963483102371,
          0.02317208889012274,
          0.00037072212630389023,
          0.038899868350596584,
          0.00021825071655034523,
          0.0005498324070477129,
          0.007950669676961992,
          0.0019727964678409042,
          0.0009150668875791726,
          0.00031323504694471215,
          0.0010307962734934478,
          0.0006582025243628915,
          0.0033725677820043436,
          0.00029259494847611435,
          0.009510220343737495,
          0.001901286537138733,
          0.0002939531727052842,
          0.016378000094859527,
          0.015020092616384552,
          0.006576949508194849,
          0,
          0.1418238463987733,
          0.01089160441109608
         ]
        }
       ],
       "layout": {
        "autosize": true,
        "hovermode": "closest",
        "showlegend": false,
        "template": {
         "data": {
          "bar": [
           {
            "error_x": {
             "color": "#2a3f5f"
            },
            "error_y": {
             "color": "#2a3f5f"
            },
            "marker": {
             "line": {
              "color": "#E5ECF6",
              "width": 0.5
             },
             "pattern": {
              "fillmode": "overlay",
              "size": 10,
              "solidity": 0.2
             }
            },
            "type": "bar"
           }
          ],
          "barpolar": [
           {
            "marker": {
             "line": {
              "color": "#E5ECF6",
              "width": 0.5
             },
             "pattern": {
              "fillmode": "overlay",
              "size": 10,
              "solidity": 0.2
             }
            },
            "type": "barpolar"
           }
          ],
          "carpet": [
           {
            "aaxis": {
             "endlinecolor": "#2a3f5f",
             "gridcolor": "white",
             "linecolor": "white",
             "minorgridcolor": "white",
             "startlinecolor": "#2a3f5f"
            },
            "baxis": {
             "endlinecolor": "#2a3f5f",
             "gridcolor": "white",
             "linecolor": "white",
             "minorgridcolor": "white",
             "startlinecolor": "#2a3f5f"
            },
            "type": "carpet"
           }
          ],
          "choropleth": [
           {
            "colorbar": {
             "outlinewidth": 0,
             "ticks": ""
            },
            "type": "choropleth"
           }
          ],
          "contour": [
           {
            "colorbar": {
             "outlinewidth": 0,
             "ticks": ""
            },
            "colorscale": [
             [
              0,
              "#0d0887"
             ],
             [
              0.1111111111111111,
              "#46039f"
             ],
             [
              0.2222222222222222,
              "#7201a8"
             ],
             [
              0.3333333333333333,
              "#9c179e"
             ],
             [
              0.4444444444444444,
              "#bd3786"
             ],
             [
              0.5555555555555556,
              "#d8576b"
             ],
             [
              0.6666666666666666,
              "#ed7953"
             ],
             [
              0.7777777777777778,
              "#fb9f3a"
             ],
             [
              0.8888888888888888,
              "#fdca26"
             ],
             [
              1,
              "#f0f921"
             ]
            ],
            "type": "contour"
           }
          ],
          "contourcarpet": [
           {
            "colorbar": {
             "outlinewidth": 0,
             "ticks": ""
            },
            "type": "contourcarpet"
           }
          ],
          "heatmap": [
           {
            "colorbar": {
             "outlinewidth": 0,
             "ticks": ""
            },
            "colorscale": [
             [
              0,
              "#0d0887"
             ],
             [
              0.1111111111111111,
              "#46039f"
             ],
             [
              0.2222222222222222,
              "#7201a8"
             ],
             [
              0.3333333333333333,
              "#9c179e"
             ],
             [
              0.4444444444444444,
              "#bd3786"
             ],
             [
              0.5555555555555556,
              "#d8576b"
             ],
             [
              0.6666666666666666,
              "#ed7953"
             ],
             [
              0.7777777777777778,
              "#fb9f3a"
             ],
             [
              0.8888888888888888,
              "#fdca26"
             ],
             [
              1,
              "#f0f921"
             ]
            ],
            "type": "heatmap"
           }
          ],
          "heatmapgl": [
           {
            "colorbar": {
             "outlinewidth": 0,
             "ticks": ""
            },
            "colorscale": [
             [
              0,
              "#0d0887"
             ],
             [
              0.1111111111111111,
              "#46039f"
             ],
             [
              0.2222222222222222,
              "#7201a8"
             ],
             [
              0.3333333333333333,
              "#9c179e"
             ],
             [
              0.4444444444444444,
              "#bd3786"
             ],
             [
              0.5555555555555556,
              "#d8576b"
             ],
             [
              0.6666666666666666,
              "#ed7953"
             ],
             [
              0.7777777777777778,
              "#fb9f3a"
             ],
             [
              0.8888888888888888,
              "#fdca26"
             ],
             [
              1,
              "#f0f921"
             ]
            ],
            "type": "heatmapgl"
           }
          ],
          "histogram": [
           {
            "marker": {
             "pattern": {
              "fillmode": "overlay",
              "size": 10,
              "solidity": 0.2
             }
            },
            "type": "histogram"
           }
          ],
          "histogram2d": [
           {
            "colorbar": {
             "outlinewidth": 0,
             "ticks": ""
            },
            "colorscale": [
             [
              0,
              "#0d0887"
             ],
             [
              0.1111111111111111,
              "#46039f"
             ],
             [
              0.2222222222222222,
              "#7201a8"
             ],
             [
              0.3333333333333333,
              "#9c179e"
             ],
             [
              0.4444444444444444,
              "#bd3786"
             ],
             [
              0.5555555555555556,
              "#d8576b"
             ],
             [
              0.6666666666666666,
              "#ed7953"
             ],
             [
              0.7777777777777778,
              "#fb9f3a"
             ],
             [
              0.8888888888888888,
              "#fdca26"
             ],
             [
              1,
              "#f0f921"
             ]
            ],
            "type": "histogram2d"
           }
          ],
          "histogram2dcontour": [
           {
            "colorbar": {
             "outlinewidth": 0,
             "ticks": ""
            },
            "colorscale": [
             [
              0,
              "#0d0887"
             ],
             [
              0.1111111111111111,
              "#46039f"
             ],
             [
              0.2222222222222222,
              "#7201a8"
             ],
             [
              0.3333333333333333,
              "#9c179e"
             ],
             [
              0.4444444444444444,
              "#bd3786"
             ],
             [
              0.5555555555555556,
              "#d8576b"
             ],
             [
              0.6666666666666666,
              "#ed7953"
             ],
             [
              0.7777777777777778,
              "#fb9f3a"
             ],
             [
              0.8888888888888888,
              "#fdca26"
             ],
             [
              1,
              "#f0f921"
             ]
            ],
            "type": "histogram2dcontour"
           }
          ],
          "mesh3d": [
           {
            "colorbar": {
             "outlinewidth": 0,
             "ticks": ""
            },
            "type": "mesh3d"
           }
          ],
          "parcoords": [
           {
            "line": {
             "colorbar": {
              "outlinewidth": 0,
              "ticks": ""
             }
            },
            "type": "parcoords"
           }
          ],
          "pie": [
           {
            "automargin": true,
            "type": "pie"
           }
          ],
          "scatter": [
           {
            "fillpattern": {
             "fillmode": "overlay",
             "size": 10,
             "solidity": 0.2
            },
            "type": "scatter"
           }
          ],
          "scatter3d": [
           {
            "line": {
             "colorbar": {
              "outlinewidth": 0,
              "ticks": ""
             }
            },
            "marker": {
             "colorbar": {
              "outlinewidth": 0,
              "ticks": ""
             }
            },
            "type": "scatter3d"
           }
          ],
          "scattercarpet": [
           {
            "marker": {
             "colorbar": {
              "outlinewidth": 0,
              "ticks": ""
             }
            },
            "type": "scattercarpet"
           }
          ],
          "scattergeo": [
           {
            "marker": {
             "colorbar": {
              "outlinewidth": 0,
              "ticks": ""
             }
            },
            "type": "scattergeo"
           }
          ],
          "scattergl": [
           {
            "marker": {
             "colorbar": {
              "outlinewidth": 0,
              "ticks": ""
             }
            },
            "type": "scattergl"
           }
          ],
          "scattermapbox": [
           {
            "marker": {
             "colorbar": {
              "outlinewidth": 0,
              "ticks": ""
             }
            },
            "type": "scattermapbox"
           }
          ],
          "scatterpolar": [
           {
            "marker": {
             "colorbar": {
              "outlinewidth": 0,
              "ticks": ""
             }
            },
            "type": "scatterpolar"
           }
          ],
          "scatterpolargl": [
           {
            "marker": {
             "colorbar": {
              "outlinewidth": 0,
              "ticks": ""
             }
            },
            "type": "scatterpolargl"
           }
          ],
          "scatterternary": [
           {
            "marker": {
             "colorbar": {
              "outlinewidth": 0,
              "ticks": ""
             }
            },
            "type": "scatterternary"
           }
          ],
          "surface": [
           {
            "colorbar": {
             "outlinewidth": 0,
             "ticks": ""
            },
            "colorscale": [
             [
              0,
              "#0d0887"
             ],
             [
              0.1111111111111111,
              "#46039f"
             ],
             [
              0.2222222222222222,
              "#7201a8"
             ],
             [
              0.3333333333333333,
              "#9c179e"
             ],
             [
              0.4444444444444444,
              "#bd3786"
             ],
             [
              0.5555555555555556,
              "#d8576b"
             ],
             [
              0.6666666666666666,
              "#ed7953"
             ],
             [
              0.7777777777777778,
              "#fb9f3a"
             ],
             [
              0.8888888888888888,
              "#fdca26"
             ],
             [
              1,
              "#f0f921"
             ]
            ],
            "type": "surface"
           }
          ],
          "table": [
           {
            "cells": {
             "fill": {
              "color": "#EBF0F8"
             },
             "line": {
              "color": "white"
             }
            },
            "header": {
             "fill": {
              "color": "#C8D4E3"
             },
             "line": {
              "color": "white"
             }
            },
            "type": "table"
           }
          ]
         },
         "layout": {
          "annotationdefaults": {
           "arrowcolor": "#2a3f5f",
           "arrowhead": 0,
           "arrowwidth": 1
          },
          "autotypenumbers": "strict",
          "coloraxis": {
           "colorbar": {
            "outlinewidth": 0,
            "ticks": ""
           }
          },
          "colorscale": {
           "diverging": [
            [
             0,
             "#8e0152"
            ],
            [
             0.1,
             "#c51b7d"
            ],
            [
             0.2,
             "#de77ae"
            ],
            [
             0.3,
             "#f1b6da"
            ],
            [
             0.4,
             "#fde0ef"
            ],
            [
             0.5,
             "#f7f7f7"
            ],
            [
             0.6,
             "#e6f5d0"
            ],
            [
             0.7,
             "#b8e186"
            ],
            [
             0.8,
             "#7fbc41"
            ],
            [
             0.9,
             "#4d9221"
            ],
            [
             1,
             "#276419"
            ]
           ],
           "sequential": [
            [
             0,
             "#0d0887"
            ],
            [
             0.1111111111111111,
             "#46039f"
            ],
            [
             0.2222222222222222,
             "#7201a8"
            ],
            [
             0.3333333333333333,
             "#9c179e"
            ],
            [
             0.4444444444444444,
             "#bd3786"
            ],
            [
             0.5555555555555556,
             "#d8576b"
            ],
            [
             0.6666666666666666,
             "#ed7953"
            ],
            [
             0.7777777777777778,
             "#fb9f3a"
            ],
            [
             0.8888888888888888,
             "#fdca26"
            ],
            [
             1,
             "#f0f921"
            ]
           ],
           "sequentialminus": [
            [
             0,
             "#0d0887"
            ],
            [
             0.1111111111111111,
             "#46039f"
            ],
            [
             0.2222222222222222,
             "#7201a8"
            ],
            [
             0.3333333333333333,
             "#9c179e"
            ],
            [
             0.4444444444444444,
             "#bd3786"
            ],
            [
             0.5555555555555556,
             "#d8576b"
            ],
            [
             0.6666666666666666,
             "#ed7953"
            ],
            [
             0.7777777777777778,
             "#fb9f3a"
            ],
            [
             0.8888888888888888,
             "#fdca26"
            ],
            [
             1,
             "#f0f921"
            ]
           ]
          },
          "colorway": [
           "#636efa",
           "#EF553B",
           "#00cc96",
           "#ab63fa",
           "#FFA15A",
           "#19d3f3",
           "#FF6692",
           "#B6E880",
           "#FF97FF",
           "#FECB52"
          ],
          "font": {
           "color": "#2a3f5f"
          },
          "geo": {
           "bgcolor": "white",
           "lakecolor": "white",
           "landcolor": "#E5ECF6",
           "showlakes": true,
           "showland": true,
           "subunitcolor": "white"
          },
          "hoverlabel": {
           "align": "left"
          },
          "hovermode": "closest",
          "mapbox": {
           "style": "light"
          },
          "paper_bgcolor": "white",
          "plot_bgcolor": "#E5ECF6",
          "polar": {
           "angularaxis": {
            "gridcolor": "white",
            "linecolor": "white",
            "ticks": ""
           },
           "bgcolor": "#E5ECF6",
           "radialaxis": {
            "gridcolor": "white",
            "linecolor": "white",
            "ticks": ""
           }
          },
          "scene": {
           "xaxis": {
            "backgroundcolor": "#E5ECF6",
            "gridcolor": "white",
            "gridwidth": 2,
            "linecolor": "white",
            "showbackground": true,
            "ticks": "",
            "zerolinecolor": "white"
           },
           "yaxis": {
            "backgroundcolor": "#E5ECF6",
            "gridcolor": "white",
            "gridwidth": 2,
            "linecolor": "white",
            "showbackground": true,
            "ticks": "",
            "zerolinecolor": "white"
           },
           "zaxis": {
            "backgroundcolor": "#E5ECF6",
            "gridcolor": "white",
            "gridwidth": 2,
            "linecolor": "white",
            "showbackground": true,
            "ticks": "",
            "zerolinecolor": "white"
           }
          },
          "shapedefaults": {
           "line": {
            "color": "#2a3f5f"
           }
          },
          "ternary": {
           "aaxis": {
            "gridcolor": "white",
            "linecolor": "white",
            "ticks": ""
           },
           "baxis": {
            "gridcolor": "white",
            "linecolor": "white",
            "ticks": ""
           },
           "bgcolor": "#E5ECF6",
           "caxis": {
            "gridcolor": "white",
            "linecolor": "white",
            "ticks": ""
           }
          },
          "title": {
           "x": 0.05
          },
          "xaxis": {
           "automargin": true,
           "gridcolor": "white",
           "linecolor": "white",
           "ticks": "",
           "title": {
            "standoff": 15
           },
           "zerolinecolor": "white",
           "zerolinewidth": 2
          },
          "yaxis": {
           "automargin": true,
           "gridcolor": "white",
           "linecolor": "white",
           "ticks": "",
           "title": {
            "standoff": 15
           },
           "zerolinecolor": "white",
           "zerolinewidth": 2
          }
         }
        },
        "title": {
         "text": "Random Forest Feature Importance"
        },
        "xaxis": {
         "showgrid": false,
         "showline": false,
         "ticklen": 5,
         "zeroline": false
        },
        "yaxis": {
         "gridwidth": 2,
         "showgrid": false,
         "ticklen": 5,
         "title": {
          "text": "Feature Importance"
         },
         "zeroline": false
        }
       }
      },
      "text/html": [
       "<div>                            <div id=\"59a1bb64-d4b4-4847-813f-09ebc98eeaf2\" class=\"plotly-graph-div\" style=\"height:525px; width:100%;\"></div>            <script type=\"text/javascript\">                require([\"plotly\"], function(Plotly) {                    window.PLOTLYENV=window.PLOTLYENV || {};                                    if (document.getElementById(\"59a1bb64-d4b4-4847-813f-09ebc98eeaf2\")) {                    Plotly.newPlot(                        \"59a1bb64-d4b4-4847-813f-09ebc98eeaf2\",                        [{\"marker\":{\"color\":[0.013586854479467806,0.004849313780308557,0.00331540062895889,0.0053287884067059425,0.0,0.0037343111578262405,0.016429102814188815,0.002887251025959534,0.014178825236299262,0.03494604521677385,0.03570097778966416,0.03947911274998142,0.004160207668225731,0.001441635805674559,0.0013141224940918046,0.0006384061327254036,0.009406537590756039,0.0,0.05470270130861117,0.016034801015822314,0.004707449025841843,0.01655189305890917,0.012013215667344894,0.014433167017165627,0.001140007882488096,0.011386423261001099,0.01494095143308129,0.0036097050037423696,0.0034420487582955506,0.005929818591785565,0.0,0.003159500933216448,0.014321068469567856,0.0025891011880486213,0.011753499281639355,0.036280224922129935,0.032746928222140446,0.04251483061051918,0.004136074425661642,0.0014150764429978404,0.001498612281764914,0.0003620053341783945,0.009892414964081652,0.0,0.0537800652953424,0.015782920882320126,0.0036175448897673335,0.019417123788699964,0.010429936236929394,0.016685848562910992,0.0009727519972014617,0.013018862534203755,0.007107811424964071,0.0011566421959080784,0.017591107978959467,0.000533212117791141,0.04170485260723317,0.005024862594119655,0.00010539963483102371,0.02317208889012274,0.00037072212630389023,0.038899868350596584,0.00021825071655034523,0.0005498324070477129,0.007950669676961992,0.0019727964678409042,0.0009150668875791726,0.00031323504694471215,0.0010307962734934478,0.0006582025243628915,0.0033725677820043436,0.00029259494847611435,0.009510220343737495,0.001901286537138733,0.0002939531727052842,0.016378000094859527,0.015020092616384552,0.006576949508194849,0.0,0.1418238463987733,0.01089160441109608],\"colorscale\":[[0.0,\"rgb(12,51,131)\"],[0.25,\"rgb(10,136,186)\"],[0.5,\"rgb(242,211,56)\"],[0.75,\"rgb(242,143,56)\"],[1.0,\"rgb(217,30,30)\"]],\"showscale\":true,\"size\":13,\"sizemode\":\"diameter\",\"sizeref\":1},\"mode\":\"markers\",\"text\":[\"Age\",\"DailyRate\",\"DistanceFromHome\",\"Education\",\"EmployeeCount\",\"EmployeeNumber\",\"EnvironmentSatisfaction\",\"HourlyRate\",\"JobInvolvement\",\"JobLevel\",\"JobSatisfaction\",\"MonthlyIncome\",\"MonthlyRate\",\"NumCompaniesWorked\",\"PercentSalaryHike\",\"PerformanceRating\",\"RelationshipSatisfaction\",\"StandardHours\",\"StockOptionLevel\",\"TotalWorkingYears\",\"TrainingTimesLastYear\",\"WorkLifeBalance\",\"YearsAtCompany\",\"YearsInCurrentRole\",\"YearsSinceLastPromotion\",\"YearsWithCurrManager\",\"Age\",\"DailyRate\",\"DistanceFromHome\",\"Education\",\"EmployeeCount\",\"EmployeeNumber\",\"EnvironmentSatisfaction\",\"HourlyRate\",\"JobInvolvement\",\"JobLevel\",\"JobSatisfaction\",\"MonthlyIncome\",\"MonthlyRate\",\"NumCompaniesWorked\",\"PercentSalaryHike\",\"PerformanceRating\",\"RelationshipSatisfaction\",\"StandardHours\",\"StockOptionLevel\",\"TotalWorkingYears\",\"TrainingTimesLastYear\",\"WorkLifeBalance\",\"YearsAtCompany\",\"YearsInCurrentRole\",\"YearsSinceLastPromotion\",\"YearsWithCurrManager\",\"BusinessTravel_Non-Travel\",\"BusinessTravel_Travel_Frequently\",\"BusinessTravel_Travel_Rarely\",\"Department_Human Resources\",\"Department_Research & Development\",\"Department_Sales\",\"EducationField_Human Resources\",\"EducationField_Life Sciences\",\"EducationField_Marketing\",\"EducationField_Medical\",\"EducationField_Other\",\"EducationField_Technical Degree\",\"Gender_Female\",\"Gender_Male\",\"JobRole_Healthcare Representative\",\"JobRole_Human Resources\",\"JobRole_Laboratory Technician\",\"JobRole_Manager\",\"JobRole_Manufacturing Director\",\"JobRole_Research Director\",\"JobRole_Research Scientist\",\"JobRole_Sales Executive\",\"JobRole_Sales Representative\",\"MaritalStatus_Divorced\",\"MaritalStatus_Married\",\"MaritalStatus_Single\",\"Over18_Y\",\"OverTime_No\",\"OverTime_Yes\"],\"x\":[\"Age\",\"DailyRate\",\"DistanceFromHome\",\"Education\",\"EmployeeCount\",\"EmployeeNumber\",\"EnvironmentSatisfaction\",\"HourlyRate\",\"JobInvolvement\",\"JobLevel\",\"JobSatisfaction\",\"MonthlyIncome\",\"MonthlyRate\",\"NumCompaniesWorked\",\"PercentSalaryHike\",\"PerformanceRating\",\"RelationshipSatisfaction\",\"StandardHours\",\"StockOptionLevel\",\"TotalWorkingYears\",\"TrainingTimesLastYear\",\"WorkLifeBalance\",\"YearsAtCompany\",\"YearsInCurrentRole\",\"YearsSinceLastPromotion\",\"YearsWithCurrManager\",\"Age\",\"DailyRate\",\"DistanceFromHome\",\"Education\",\"EmployeeCount\",\"EmployeeNumber\",\"EnvironmentSatisfaction\",\"HourlyRate\",\"JobInvolvement\",\"JobLevel\",\"JobSatisfaction\",\"MonthlyIncome\",\"MonthlyRate\",\"NumCompaniesWorked\",\"PercentSalaryHike\",\"PerformanceRating\",\"RelationshipSatisfaction\",\"StandardHours\",\"StockOptionLevel\",\"TotalWorkingYears\",\"TrainingTimesLastYear\",\"WorkLifeBalance\",\"YearsAtCompany\",\"YearsInCurrentRole\",\"YearsSinceLastPromotion\",\"YearsWithCurrManager\",\"BusinessTravel_Non-Travel\",\"BusinessTravel_Travel_Frequently\",\"BusinessTravel_Travel_Rarely\",\"Department_Human Resources\",\"Department_Research & Development\",\"Department_Sales\",\"EducationField_Human Resources\",\"EducationField_Life Sciences\",\"EducationField_Marketing\",\"EducationField_Medical\",\"EducationField_Other\",\"EducationField_Technical Degree\",\"Gender_Female\",\"Gender_Male\",\"JobRole_Healthcare Representative\",\"JobRole_Human Resources\",\"JobRole_Laboratory Technician\",\"JobRole_Manager\",\"JobRole_Manufacturing Director\",\"JobRole_Research Director\",\"JobRole_Research Scientist\",\"JobRole_Sales Executive\",\"JobRole_Sales Representative\",\"MaritalStatus_Divorced\",\"MaritalStatus_Married\",\"MaritalStatus_Single\",\"Over18_Y\",\"OverTime_No\",\"OverTime_Yes\"],\"y\":[0.013586854479467806,0.004849313780308557,0.00331540062895889,0.0053287884067059425,0.0,0.0037343111578262405,0.016429102814188815,0.002887251025959534,0.014178825236299262,0.03494604521677385,0.03570097778966416,0.03947911274998142,0.004160207668225731,0.001441635805674559,0.0013141224940918046,0.0006384061327254036,0.009406537590756039,0.0,0.05470270130861117,0.016034801015822314,0.004707449025841843,0.01655189305890917,0.012013215667344894,0.014433167017165627,0.001140007882488096,0.011386423261001099,0.01494095143308129,0.0036097050037423696,0.0034420487582955506,0.005929818591785565,0.0,0.003159500933216448,0.014321068469567856,0.0025891011880486213,0.011753499281639355,0.036280224922129935,0.032746928222140446,0.04251483061051918,0.004136074425661642,0.0014150764429978404,0.001498612281764914,0.0003620053341783945,0.009892414964081652,0.0,0.0537800652953424,0.015782920882320126,0.0036175448897673335,0.019417123788699964,0.010429936236929394,0.016685848562910992,0.0009727519972014617,0.013018862534203755,0.007107811424964071,0.0011566421959080784,0.017591107978959467,0.000533212117791141,0.04170485260723317,0.005024862594119655,0.00010539963483102371,0.02317208889012274,0.00037072212630389023,0.038899868350596584,0.00021825071655034523,0.0005498324070477129,0.007950669676961992,0.0019727964678409042,0.0009150668875791726,0.00031323504694471215,0.0010307962734934478,0.0006582025243628915,0.0033725677820043436,0.00029259494847611435,0.009510220343737495,0.001901286537138733,0.0002939531727052842,0.016378000094859527,0.015020092616384552,0.006576949508194849,0.0,0.1418238463987733,0.01089160441109608],\"type\":\"scatter\"}],                        {\"autosize\":true,\"hovermode\":\"closest\",\"showlegend\":false,\"template\":{\"data\":{\"barpolar\":[{\"marker\":{\"line\":{\"color\":\"#E5ECF6\",\"width\":0.5},\"pattern\":{\"fillmode\":\"overlay\",\"size\":10,\"solidity\":0.2}},\"type\":\"barpolar\"}],\"bar\":[{\"error_x\":{\"color\":\"#2a3f5f\"},\"error_y\":{\"color\":\"#2a3f5f\"},\"marker\":{\"line\":{\"color\":\"#E5ECF6\",\"width\":0.5},\"pattern\":{\"fillmode\":\"overlay\",\"size\":10,\"solidity\":0.2}},\"type\":\"bar\"}],\"carpet\":[{\"aaxis\":{\"endlinecolor\":\"#2a3f5f\",\"gridcolor\":\"white\",\"linecolor\":\"white\",\"minorgridcolor\":\"white\",\"startlinecolor\":\"#2a3f5f\"},\"baxis\":{\"endlinecolor\":\"#2a3f5f\",\"gridcolor\":\"white\",\"linecolor\":\"white\",\"minorgridcolor\":\"white\",\"startlinecolor\":\"#2a3f5f\"},\"type\":\"carpet\"}],\"choropleth\":[{\"colorbar\":{\"outlinewidth\":0,\"ticks\":\"\"},\"type\":\"choropleth\"}],\"contourcarpet\":[{\"colorbar\":{\"outlinewidth\":0,\"ticks\":\"\"},\"type\":\"contourcarpet\"}],\"contour\":[{\"colorbar\":{\"outlinewidth\":0,\"ticks\":\"\"},\"colorscale\":[[0.0,\"#0d0887\"],[0.1111111111111111,\"#46039f\"],[0.2222222222222222,\"#7201a8\"],[0.3333333333333333,\"#9c179e\"],[0.4444444444444444,\"#bd3786\"],[0.5555555555555556,\"#d8576b\"],[0.6666666666666666,\"#ed7953\"],[0.7777777777777778,\"#fb9f3a\"],[0.8888888888888888,\"#fdca26\"],[1.0,\"#f0f921\"]],\"type\":\"contour\"}],\"heatmapgl\":[{\"colorbar\":{\"outlinewidth\":0,\"ticks\":\"\"},\"colorscale\":[[0.0,\"#0d0887\"],[0.1111111111111111,\"#46039f\"],[0.2222222222222222,\"#7201a8\"],[0.3333333333333333,\"#9c179e\"],[0.4444444444444444,\"#bd3786\"],[0.5555555555555556,\"#d8576b\"],[0.6666666666666666,\"#ed7953\"],[0.7777777777777778,\"#fb9f3a\"],[0.8888888888888888,\"#fdca26\"],[1.0,\"#f0f921\"]],\"type\":\"heatmapgl\"}],\"heatmap\":[{\"colorbar\":{\"outlinewidth\":0,\"ticks\":\"\"},\"colorscale\":[[0.0,\"#0d0887\"],[0.1111111111111111,\"#46039f\"],[0.2222222222222222,\"#7201a8\"],[0.3333333333333333,\"#9c179e\"],[0.4444444444444444,\"#bd3786\"],[0.5555555555555556,\"#d8576b\"],[0.6666666666666666,\"#ed7953\"],[0.7777777777777778,\"#fb9f3a\"],[0.8888888888888888,\"#fdca26\"],[1.0,\"#f0f921\"]],\"type\":\"heatmap\"}],\"histogram2dcontour\":[{\"colorbar\":{\"outlinewidth\":0,\"ticks\":\"\"},\"colorscale\":[[0.0,\"#0d0887\"],[0.1111111111111111,\"#46039f\"],[0.2222222222222222,\"#7201a8\"],[0.3333333333333333,\"#9c179e\"],[0.4444444444444444,\"#bd3786\"],[0.5555555555555556,\"#d8576b\"],[0.6666666666666666,\"#ed7953\"],[0.7777777777777778,\"#fb9f3a\"],[0.8888888888888888,\"#fdca26\"],[1.0,\"#f0f921\"]],\"type\":\"histogram2dcontour\"}],\"histogram2d\":[{\"colorbar\":{\"outlinewidth\":0,\"ticks\":\"\"},\"colorscale\":[[0.0,\"#0d0887\"],[0.1111111111111111,\"#46039f\"],[0.2222222222222222,\"#7201a8\"],[0.3333333333333333,\"#9c179e\"],[0.4444444444444444,\"#bd3786\"],[0.5555555555555556,\"#d8576b\"],[0.6666666666666666,\"#ed7953\"],[0.7777777777777778,\"#fb9f3a\"],[0.8888888888888888,\"#fdca26\"],[1.0,\"#f0f921\"]],\"type\":\"histogram2d\"}],\"histogram\":[{\"marker\":{\"pattern\":{\"fillmode\":\"overlay\",\"size\":10,\"solidity\":0.2}},\"type\":\"histogram\"}],\"mesh3d\":[{\"colorbar\":{\"outlinewidth\":0,\"ticks\":\"\"},\"type\":\"mesh3d\"}],\"parcoords\":[{\"line\":{\"colorbar\":{\"outlinewidth\":0,\"ticks\":\"\"}},\"type\":\"parcoords\"}],\"pie\":[{\"automargin\":true,\"type\":\"pie\"}],\"scatter3d\":[{\"line\":{\"colorbar\":{\"outlinewidth\":0,\"ticks\":\"\"}},\"marker\":{\"colorbar\":{\"outlinewidth\":0,\"ticks\":\"\"}},\"type\":\"scatter3d\"}],\"scattercarpet\":[{\"marker\":{\"colorbar\":{\"outlinewidth\":0,\"ticks\":\"\"}},\"type\":\"scattercarpet\"}],\"scattergeo\":[{\"marker\":{\"colorbar\":{\"outlinewidth\":0,\"ticks\":\"\"}},\"type\":\"scattergeo\"}],\"scattergl\":[{\"marker\":{\"colorbar\":{\"outlinewidth\":0,\"ticks\":\"\"}},\"type\":\"scattergl\"}],\"scattermapbox\":[{\"marker\":{\"colorbar\":{\"outlinewidth\":0,\"ticks\":\"\"}},\"type\":\"scattermapbox\"}],\"scatterpolargl\":[{\"marker\":{\"colorbar\":{\"outlinewidth\":0,\"ticks\":\"\"}},\"type\":\"scatterpolargl\"}],\"scatterpolar\":[{\"marker\":{\"colorbar\":{\"outlinewidth\":0,\"ticks\":\"\"}},\"type\":\"scatterpolar\"}],\"scatter\":[{\"fillpattern\":{\"fillmode\":\"overlay\",\"size\":10,\"solidity\":0.2},\"type\":\"scatter\"}],\"scatterternary\":[{\"marker\":{\"colorbar\":{\"outlinewidth\":0,\"ticks\":\"\"}},\"type\":\"scatterternary\"}],\"surface\":[{\"colorbar\":{\"outlinewidth\":0,\"ticks\":\"\"},\"colorscale\":[[0.0,\"#0d0887\"],[0.1111111111111111,\"#46039f\"],[0.2222222222222222,\"#7201a8\"],[0.3333333333333333,\"#9c179e\"],[0.4444444444444444,\"#bd3786\"],[0.5555555555555556,\"#d8576b\"],[0.6666666666666666,\"#ed7953\"],[0.7777777777777778,\"#fb9f3a\"],[0.8888888888888888,\"#fdca26\"],[1.0,\"#f0f921\"]],\"type\":\"surface\"}],\"table\":[{\"cells\":{\"fill\":{\"color\":\"#EBF0F8\"},\"line\":{\"color\":\"white\"}},\"header\":{\"fill\":{\"color\":\"#C8D4E3\"},\"line\":{\"color\":\"white\"}},\"type\":\"table\"}]},\"layout\":{\"annotationdefaults\":{\"arrowcolor\":\"#2a3f5f\",\"arrowhead\":0,\"arrowwidth\":1},\"autotypenumbers\":\"strict\",\"coloraxis\":{\"colorbar\":{\"outlinewidth\":0,\"ticks\":\"\"}},\"colorscale\":{\"diverging\":[[0,\"#8e0152\"],[0.1,\"#c51b7d\"],[0.2,\"#de77ae\"],[0.3,\"#f1b6da\"],[0.4,\"#fde0ef\"],[0.5,\"#f7f7f7\"],[0.6,\"#e6f5d0\"],[0.7,\"#b8e186\"],[0.8,\"#7fbc41\"],[0.9,\"#4d9221\"],[1,\"#276419\"]],\"sequential\":[[0.0,\"#0d0887\"],[0.1111111111111111,\"#46039f\"],[0.2222222222222222,\"#7201a8\"],[0.3333333333333333,\"#9c179e\"],[0.4444444444444444,\"#bd3786\"],[0.5555555555555556,\"#d8576b\"],[0.6666666666666666,\"#ed7953\"],[0.7777777777777778,\"#fb9f3a\"],[0.8888888888888888,\"#fdca26\"],[1.0,\"#f0f921\"]],\"sequentialminus\":[[0.0,\"#0d0887\"],[0.1111111111111111,\"#46039f\"],[0.2222222222222222,\"#7201a8\"],[0.3333333333333333,\"#9c179e\"],[0.4444444444444444,\"#bd3786\"],[0.5555555555555556,\"#d8576b\"],[0.6666666666666666,\"#ed7953\"],[0.7777777777777778,\"#fb9f3a\"],[0.8888888888888888,\"#fdca26\"],[1.0,\"#f0f921\"]]},\"colorway\":[\"#636efa\",\"#EF553B\",\"#00cc96\",\"#ab63fa\",\"#FFA15A\",\"#19d3f3\",\"#FF6692\",\"#B6E880\",\"#FF97FF\",\"#FECB52\"],\"font\":{\"color\":\"#2a3f5f\"},\"geo\":{\"bgcolor\":\"white\",\"lakecolor\":\"white\",\"landcolor\":\"#E5ECF6\",\"showlakes\":true,\"showland\":true,\"subunitcolor\":\"white\"},\"hoverlabel\":{\"align\":\"left\"},\"hovermode\":\"closest\",\"mapbox\":{\"style\":\"light\"},\"paper_bgcolor\":\"white\",\"plot_bgcolor\":\"#E5ECF6\",\"polar\":{\"angularaxis\":{\"gridcolor\":\"white\",\"linecolor\":\"white\",\"ticks\":\"\"},\"bgcolor\":\"#E5ECF6\",\"radialaxis\":{\"gridcolor\":\"white\",\"linecolor\":\"white\",\"ticks\":\"\"}},\"scene\":{\"xaxis\":{\"backgroundcolor\":\"#E5ECF6\",\"gridcolor\":\"white\",\"gridwidth\":2,\"linecolor\":\"white\",\"showbackground\":true,\"ticks\":\"\",\"zerolinecolor\":\"white\"},\"yaxis\":{\"backgroundcolor\":\"#E5ECF6\",\"gridcolor\":\"white\",\"gridwidth\":2,\"linecolor\":\"white\",\"showbackground\":true,\"ticks\":\"\",\"zerolinecolor\":\"white\"},\"zaxis\":{\"backgroundcolor\":\"#E5ECF6\",\"gridcolor\":\"white\",\"gridwidth\":2,\"linecolor\":\"white\",\"showbackground\":true,\"ticks\":\"\",\"zerolinecolor\":\"white\"}},\"shapedefaults\":{\"line\":{\"color\":\"#2a3f5f\"}},\"ternary\":{\"aaxis\":{\"gridcolor\":\"white\",\"linecolor\":\"white\",\"ticks\":\"\"},\"baxis\":{\"gridcolor\":\"white\",\"linecolor\":\"white\",\"ticks\":\"\"},\"bgcolor\":\"#E5ECF6\",\"caxis\":{\"gridcolor\":\"white\",\"linecolor\":\"white\",\"ticks\":\"\"}},\"title\":{\"x\":0.05},\"xaxis\":{\"automargin\":true,\"gridcolor\":\"white\",\"linecolor\":\"white\",\"ticks\":\"\",\"title\":{\"standoff\":15},\"zerolinecolor\":\"white\",\"zerolinewidth\":2},\"yaxis\":{\"automargin\":true,\"gridcolor\":\"white\",\"linecolor\":\"white\",\"ticks\":\"\",\"title\":{\"standoff\":15},\"zerolinecolor\":\"white\",\"zerolinewidth\":2}}},\"title\":{\"text\":\"Random Forest Feature Importance\"},\"xaxis\":{\"showgrid\":false,\"showline\":false,\"ticklen\":5,\"zeroline\":false},\"yaxis\":{\"gridwidth\":2,\"showgrid\":false,\"ticklen\":5,\"title\":{\"text\":\"Feature Importance\"},\"zeroline\":false}},                        {\"responsive\": true}                    ).then(function(){\n",
       "                            \n",
       "var gd = document.getElementById('59a1bb64-d4b4-4847-813f-09ebc98eeaf2');\n",
       "var x = new MutationObserver(function (mutations, observer) {{\n",
       "        var display = window.getComputedStyle(gd).display;\n",
       "        if (!display || display === 'none') {{\n",
       "            console.log([gd, 'removed!']);\n",
       "            Plotly.purge(gd);\n",
       "            observer.disconnect();\n",
       "        }}\n",
       "}});\n",
       "\n",
       "// Listen for the removal of the full notebook cells\n",
       "var notebookContainer = gd.closest('#notebook-container');\n",
       "if (notebookContainer) {{\n",
       "    x.observe(notebookContainer, {childList: true});\n",
       "}}\n",
       "\n",
       "// Listen for the clearing of the current output cell\n",
       "var outputEl = gd.closest('.output');\n",
       "if (outputEl) {{\n",
       "    x.observe(outputEl, {childList: true});\n",
       "}}\n",
       "\n",
       "                        })                };                });            </script>        </div>"
      ]
     },
     "metadata": {},
     "output_type": "display_data"
    }
   ],
   "source": [
    "# Scatter plot \n",
    "trace = go.Scatter(\n",
    "    y = rf.feature_importances_,\n",
    "    x = attrition_final.columns.values,\n",
    "    mode='markers',\n",
    "    marker=dict(\n",
    "        sizemode = 'diameter',\n",
    "        sizeref = 1,\n",
    "        size = 13,\n",
    "        #size= rf.feature_importances_,\n",
    "        #color = np.random.randn(500), #set color equal to a variable\n",
    "        color = rf.feature_importances_,\n",
    "        colorscale='Portland',\n",
    "        showscale=True\n",
    "    ),\n",
    "    text = attrition_final.columns.values\n",
    ")\n",
    "data = [trace]\n",
    "\n",
    "layout= go.Layout(\n",
    "    autosize= True,\n",
    "    title= 'Random Forest Feature Importance',\n",
    "    hovermode= 'closest',\n",
    "     xaxis= dict(\n",
    "         ticklen= 5,\n",
    "         showgrid=False,\n",
    "        zeroline=False,\n",
    "        showline=False\n",
    "     ),\n",
    "    yaxis=dict(\n",
    "        title= 'Feature Importance',\n",
    "        showgrid=False,\n",
    "        zeroline=False,\n",
    "        ticklen= 5,\n",
    "        gridwidth= 2\n",
    "    ),\n",
    "    showlegend= False\n",
    ")\n",
    "fig = go.Figure(data=data, layout=layout)\n",
    "py.iplot(fig,filename='scatter2010')"
   ]
  },
  {
   "cell_type": "code",
   "execution_count": 74,
   "id": "edab2a05",
   "metadata": {},
   "outputs": [],
   "source": [
    "import matplotlib.pyplot as plt\n",
    "from sklearn import tree"
   ]
  },
  {
   "cell_type": "code",
   "execution_count": 79,
   "id": "fd1f8228",
   "metadata": {},
   "outputs": [
    {
     "data": {
      "image/png": "[encoded data removed]",
      "text/plain": [
       "<Figure size 2000x2000 with 1 Axes>"
      ]
     },
     "metadata": {},
     "output_type": "display_data"
    }
   ],
   "source": [
    "# Set the size of the figure\n",
    "plt.figure(figsize=(20, 20))  # Adjust the size to fit your tree\n",
    "\n",
    "# Plot the decision tree\n",
    "tree_plot = tree.plot_tree(\n",
    "    decision_tree,\n",
    "    feature_names=attrition_final.columns.values, \n",
    "    class_names=['No', 'Yes'],  \n",
    "    filled=True, \n",
    "    rounded=True, \n",
    "    fontsize=10)  # Adjust font size to fit the space\n",
    "\n",
    "# Save the plot to a high-resolution file\n",
    "plt.savefig('decision_tree_high_res.png', format='png', dpi=300, bbox_inches='tight')\n",
    "\n",
    "# Optionally show the plot in the output\n",
    "plt.show()"
   ]
  },
  {
   "cell_type": "code",
   "execution_count": 80,
   "id": "ac6f3258",
   "metadata": {},
   "outputs": [],
   "source": [
    "# Gradient Boosting Parameters\n",
    "gb_params ={\n",
    "    'n_estimators': 1500,\n",
    "    'max_features': 0.9,\n",
    "    'learning_rate' : 0.25,\n",
    "    'max_depth': 4,\n",
    "    'min_samples_leaf': 2,\n",
    "    'subsample': 1,\n",
    "    'max_features' : 'sqrt',\n",
    "    'random_state' : seed,\n",
    "    'verbose': 0\n",
    "}"
   ]
  },
  {
   "cell_type": "code",
   "execution_count": 81,
   "id": "e9d134ba",
   "metadata": {},
   "outputs": [],
   "source": [
    "gb = GradientBoostingClassifier(**gb_params)\n",
    "# Fit the model to our SMOTEd train and target\n",
    "gb.fit(smote_train, smote_target)\n",
    "# Get our predictions\n",
    "gb_predictions = gb.predict(test)\n"
   ]
  },
  {
   "cell_type": "code",
   "execution_count": 82,
   "id": "04007529",
   "metadata": {},
   "outputs": [
    {
     "name": "stdout",
     "output_type": "stream",
     "text": [
      "0.8605442176870748\n",
      "              precision    recall  f1-score   support\n",
      "\n",
      "           0       0.88      0.96      0.92       245\n",
      "           1       0.64      0.37      0.47        49\n",
      "\n",
      "    accuracy                           0.86       294\n",
      "   macro avg       0.76      0.66      0.69       294\n",
      "weighted avg       0.84      0.86      0.84       294\n",
      "\n"
     ]
    }
   ],
   "source": [
    "print(accuracy_score(target_val, gb_predictions))\n",
    "print(classification_report(target_val, gb_predictions))"
   ]
  },
  {
   "cell_type": "code",
   "execution_count": null,
   "id": "11b6a702",
   "metadata": {},
   "outputs": [],
   "source": []
  },
  {
   "cell_type": "code",
   "execution_count": null,
   "id": "ca1809e4",
   "metadata": {},
   "outputs": [],
   "source": []
  },
  {
   "cell_type": "code",
   "execution_count": null,
   "id": "238c5329",
   "metadata": {},
   "outputs": [],
   "source": []
  },
  {
   "cell_type": "code",
   "execution_count": null,
   "id": "6eb7e761",
   "metadata": {},
   "outputs": [],
   "source": []
  },
  {
   "cell_type": "code",
   "execution_count": null,
   "id": "fbf84c35",
   "metadata": {},
   "outputs": [],
   "source": []
  }
 ],
 "metadata": {
  "kernelspec": {
   "display_name": "Python 3 (ipykernel)",
   "language": "python",
   "name": "python3"
  },
  "language_info": {
   "codemirror_mode": {
    "name": "ipython",
    "version": 3
   },
   "file_extension": ".py",
   "mimetype": "text/x-python",
   "name": "python",
   "nbconvert_exporter": "python",
   "pygments_lexer": "ipython3",
   "version": "3.10.9"
  }
 },
 "nbformat": 4,
 "nbformat_minor": 5
}
